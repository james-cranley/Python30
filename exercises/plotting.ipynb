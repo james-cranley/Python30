{
 "cells": [
  {
   "cell_type": "markdown",
   "id": "3578e08e-7198-418c-8c39-e06c13480f90",
   "metadata": {},
   "source": [
    "# Plotting\n",
    "---\n",
    "This is an introduction to reading, manipulating, and writing tabular data in python, focussing on the dataframe - the most common way to handle tabular data.\n",
    "\n",
    "By the end you will:\n",
    "- Learn how to read (and write) in excel and csv formats\n",
    "- Inspect dataframes\n",
    "- Subset dataframes"
   ]
  },
  {
   "cell_type": "markdown",
   "id": "a731edbc-4cbd-47d8-914c-e0c1939b5609",
   "metadata": {},
   "source": [
    "## Import packages"
   ]
  },
  {
   "cell_type": "markdown",
   "id": "b25134ee-dac9-4d4f-b8f2-a4287f1915b7",
   "metadata": {},
   "source": [
    "The dataframe is actually not native to python, it belongs to a python package called pandas.\n",
    "\n",
    "We have to make our notebook aware of any packages we want to use by 'importing' them"
   ]
  },
  {
   "cell_type": "code",
   "execution_count": 10,
   "id": "4a8a434c-e975-4862-953d-0fa3dcd4e79f",
   "metadata": {},
   "outputs": [],
   "source": [
    "import os # operating system: for interacting with files\n",
    "import pandas as pd # key tabular data package in python\n",
    "import numpy as np # important package for mathematics in python\n",
    "from matplotlib import pyplot as plt # a common plotting package\n",
    "import seaborn as sns # another common plotting package"
   ]
  },
  {
   "cell_type": "markdown",
   "id": "42da183c-ddf0-49ee-a8a3-ea328077cfcc",
   "metadata": {},
   "source": [
    "## Reading data into dataframes"
   ]
  },
  {
   "cell_type": "markdown",
   "id": "a1de22bb-6115-415e-951c-0a757d74e80e",
   "metadata": {},
   "source": [
    "In this example our data is stored as a CSV file (Comma-Separated Values).\n",
    "\n",
    "This is a simple way to store and organize data in a plain text format.\n",
    "\n",
    "It’s like a spreadsheet but without all the extra features of software like Excel or Google Sheets.\n",
    "\n",
    "How a CSV File Works:\n",
    " - It contains rows and columns, just like a table.\n",
    " - Each row represents a record (or an entry).\n",
    " - Each column contains a specific type of information (like a name, date, or price).\n",
    " - The values in each row are separated by commas (,), which is why it’s called Comma-Separated Values."
   ]
  },
  {
   "cell_type": "markdown",
   "id": "cacfdeb6-771d-41ae-9db6-5f1d6648ea16",
   "metadata": {},
   "source": [
    "These data are from: _Machine learning has been used to predict patient survival based on key clinical parameters_ [Chicco & Jurman, 2020](https://doi.org/10.1186/s12911-020-1023-5)."
   ]
  },
  {
   "cell_type": "markdown",
   "id": "71f67e79-d06f-4ad1-adf8-e5b19e68243d",
   "metadata": {},
   "source": [
    "We read in the csv file into a **pandas dataframe** called hf_prediction_data."
   ]
  },
  {
   "cell_type": "markdown",
   "id": "2ac4e325-6906-4c83-9048-e2d71128624b",
   "metadata": {},
   "source": [
    "We will use the `hf_prediction_data_time_removed` dataframe from earlier to demonstrate plotting"
   ]
  },
  {
   "cell_type": "code",
   "execution_count": 3,
   "id": "3122ebf4-5066-476e-9824-f696d74b602c",
   "metadata": {},
   "outputs": [],
   "source": [
    "input_file_path = \"./data/heart_failure_clinical_records_dataset.csv\" # define the relative path to the file\n",
    "hf_prediction_data = pd.read_csv(input_file_path) # read in the csv file using pandas built-in csv reading function"
   ]
  },
  {
   "cell_type": "markdown",
   "id": "d976fe19-bb2b-4063-8053-ef1d8ed0fdab",
   "metadata": {},
   "source": [
    "## Manipulating dataframes"
   ]
  },
  {
   "cell_type": "code",
   "execution_count": 4,
   "id": "44936fa6-27f0-42fa-9872-6ab93c965f28",
   "metadata": {},
   "outputs": [
    {
     "name": "stdout",
     "output_type": "stream",
     "text": [
      "<class 'pandas.core.frame.DataFrame'>\n",
      "RangeIndex: 299 entries, 0 to 298\n",
      "Data columns (total 13 columns):\n",
      " #   Column                    Non-Null Count  Dtype  \n",
      "---  ------                    --------------  -----  \n",
      " 0   age                       299 non-null    float64\n",
      " 1   anaemia                   299 non-null    int64  \n",
      " 2   creatinine_phosphokinase  299 non-null    int64  \n",
      " 3   diabetes                  299 non-null    int64  \n",
      " 4   ejection_fraction         299 non-null    int64  \n",
      " 5   high_blood_pressure       299 non-null    int64  \n",
      " 6   platelets                 299 non-null    float64\n",
      " 7   serum_creatinine          299 non-null    float64\n",
      " 8   serum_sodium              299 non-null    int64  \n",
      " 9   sex                       299 non-null    int64  \n",
      " 10  smoking                   299 non-null    int64  \n",
      " 11  time                      299 non-null    int64  \n",
      " 12  DEATH_EVENT               299 non-null    int64  \n",
      "dtypes: float64(3), int64(10)\n",
      "memory usage: 30.5 KB\n"
     ]
    }
   ],
   "source": [
    "# We can inspect the data\n",
    "hf_prediction_data.info()"
   ]
  },
  {
   "cell_type": "markdown",
   "id": "77902f81-d6f1-4948-bcd6-075e28fdabe6",
   "metadata": {},
   "source": [
    "We can see the table has 12 columns and 299 rows. The Dtype indicates the data are either integers (int64) or non-integer numbers (float64)"
   ]
  },
  {
   "cell_type": "code",
   "execution_count": 5,
   "id": "feda229f-8726-4f72-b933-794686ca6f62",
   "metadata": {},
   "outputs": [
    {
     "data": {
      "text/html": [
       "<div>\n",
       "<style scoped>\n",
       "    .dataframe tbody tr th:only-of-type {\n",
       "        vertical-align: middle;\n",
       "    }\n",
       "\n",
       "    .dataframe tbody tr th {\n",
       "        vertical-align: top;\n",
       "    }\n",
       "\n",
       "    .dataframe thead th {\n",
       "        text-align: right;\n",
       "    }\n",
       "</style>\n",
       "<table border=\"1\" class=\"dataframe\">\n",
       "  <thead>\n",
       "    <tr style=\"text-align: right;\">\n",
       "      <th></th>\n",
       "      <th>age</th>\n",
       "      <th>anaemia</th>\n",
       "      <th>creatinine_phosphokinase</th>\n",
       "      <th>diabetes</th>\n",
       "      <th>ejection_fraction</th>\n",
       "      <th>high_blood_pressure</th>\n",
       "      <th>platelets</th>\n",
       "      <th>serum_creatinine</th>\n",
       "      <th>serum_sodium</th>\n",
       "      <th>sex</th>\n",
       "      <th>smoking</th>\n",
       "      <th>time</th>\n",
       "      <th>DEATH_EVENT</th>\n",
       "    </tr>\n",
       "  </thead>\n",
       "  <tbody>\n",
       "    <tr>\n",
       "      <th>0</th>\n",
       "      <td>75.0</td>\n",
       "      <td>0</td>\n",
       "      <td>582</td>\n",
       "      <td>0</td>\n",
       "      <td>20</td>\n",
       "      <td>1</td>\n",
       "      <td>265000.00</td>\n",
       "      <td>1.9</td>\n",
       "      <td>130</td>\n",
       "      <td>1</td>\n",
       "      <td>0</td>\n",
       "      <td>4</td>\n",
       "      <td>1</td>\n",
       "    </tr>\n",
       "    <tr>\n",
       "      <th>1</th>\n",
       "      <td>55.0</td>\n",
       "      <td>0</td>\n",
       "      <td>7861</td>\n",
       "      <td>0</td>\n",
       "      <td>38</td>\n",
       "      <td>0</td>\n",
       "      <td>263358.03</td>\n",
       "      <td>1.1</td>\n",
       "      <td>136</td>\n",
       "      <td>1</td>\n",
       "      <td>0</td>\n",
       "      <td>6</td>\n",
       "      <td>1</td>\n",
       "    </tr>\n",
       "    <tr>\n",
       "      <th>2</th>\n",
       "      <td>65.0</td>\n",
       "      <td>0</td>\n",
       "      <td>146</td>\n",
       "      <td>0</td>\n",
       "      <td>20</td>\n",
       "      <td>0</td>\n",
       "      <td>162000.00</td>\n",
       "      <td>1.3</td>\n",
       "      <td>129</td>\n",
       "      <td>1</td>\n",
       "      <td>1</td>\n",
       "      <td>7</td>\n",
       "      <td>1</td>\n",
       "    </tr>\n",
       "    <tr>\n",
       "      <th>3</th>\n",
       "      <td>50.0</td>\n",
       "      <td>1</td>\n",
       "      <td>111</td>\n",
       "      <td>0</td>\n",
       "      <td>20</td>\n",
       "      <td>0</td>\n",
       "      <td>210000.00</td>\n",
       "      <td>1.9</td>\n",
       "      <td>137</td>\n",
       "      <td>1</td>\n",
       "      <td>0</td>\n",
       "      <td>7</td>\n",
       "      <td>1</td>\n",
       "    </tr>\n",
       "    <tr>\n",
       "      <th>4</th>\n",
       "      <td>65.0</td>\n",
       "      <td>1</td>\n",
       "      <td>160</td>\n",
       "      <td>1</td>\n",
       "      <td>20</td>\n",
       "      <td>0</td>\n",
       "      <td>327000.00</td>\n",
       "      <td>2.7</td>\n",
       "      <td>116</td>\n",
       "      <td>0</td>\n",
       "      <td>0</td>\n",
       "      <td>8</td>\n",
       "      <td>1</td>\n",
       "    </tr>\n",
       "  </tbody>\n",
       "</table>\n",
       "</div>"
      ],
      "text/plain": [
       "    age  anaemia  creatinine_phosphokinase  diabetes  ejection_fraction  \\\n",
       "0  75.0        0                       582         0                 20   \n",
       "1  55.0        0                      7861         0                 38   \n",
       "2  65.0        0                       146         0                 20   \n",
       "3  50.0        1                       111         0                 20   \n",
       "4  65.0        1                       160         1                 20   \n",
       "\n",
       "   high_blood_pressure  platelets  serum_creatinine  serum_sodium  sex  \\\n",
       "0                    1  265000.00               1.9           130    1   \n",
       "1                    0  263358.03               1.1           136    1   \n",
       "2                    0  162000.00               1.3           129    1   \n",
       "3                    0  210000.00               1.9           137    1   \n",
       "4                    0  327000.00               2.7           116    0   \n",
       "\n",
       "   smoking  time  DEATH_EVENT  \n",
       "0        0     4            1  \n",
       "1        0     6            1  \n",
       "2        1     7            1  \n",
       "3        0     7            1  \n",
       "4        0     8            1  "
      ]
     },
     "execution_count": 5,
     "metadata": {},
     "output_type": "execute_result"
    }
   ],
   "source": [
    "hf_prediction_data.head() # the head() method shows us the top"
   ]
  },
  {
   "cell_type": "code",
   "execution_count": 6,
   "id": "55c682c0-d497-426e-850b-b453a5c5567f",
   "metadata": {},
   "outputs": [
    {
     "data": {
      "image/png": "[encoded data removed]",
      "text/plain": [
       "<Figure size 400x600 with 1 Axes>"
      ]
     },
     "metadata": {},
     "output_type": "display_data"
    }
   ],
   "source": [
    "# Histograms are useful ways to explore data\n",
    "plt.figure(figsize=(4,6))\n",
    "plt.hist(x=hf_prediction_data['age']) # we pass the histogram function a single column of data\n",
    "plt.title(\"Histogram of age\")\n",
    "plt.show()"
   ]
  },
  {
   "cell_type": "code",
   "execution_count": 7,
   "id": "a8b8b09e-9b4b-4549-b19c-4f694a107671",
   "metadata": {},
   "outputs": [
    {
     "data": {
      "image/png": "[encoded data removed]",
      "text/plain": [
       "<Figure size 600x600 with 1 Axes>"
      ]
     },
     "metadata": {},
     "output_type": "display_data"
    }
   ],
   "source": [
    "# Scatterplots can help visualise 2 continuous variables\n",
    "\n",
    "# Define colors for the two classes (0 = survived, 1 = died)\n",
    "colors = {0: 'blue', 1: 'red'}\n",
    "\n",
    "plt.figure(figsize=(6,6))\n",
    "scatter = plt.scatter(x=hf_prediction_data['serum_creatinine'],\n",
    "                      y=hf_prediction_data['ejection_fraction'],\n",
    "                      c=hf_prediction_data['DEATH_EVENT'].map(colors),  # Map colors\n",
    "                      label='Survival Status')\n",
    "\n",
    "plt.xlabel(\"Serum Creatinine\")\n",
    "plt.ylabel(\"Ejection Fraction\")\n",
    "plt.title(\"Scatterplot of Creatinine vs EF, Coloured by Survival Status\")\n",
    "\n",
    "# Manually create legend\n",
    "plt.legend(handles=[\n",
    "    plt.Line2D([0], [0], marker='o', color='w', markersize=8, markerfacecolor='blue', label='Survived'),\n",
    "    plt.Line2D([0], [0], marker='o', color='w', markersize=8, markerfacecolor='red', label='Died')\n",
    "])\n",
    "\n",
    "plt.show()"
   ]
  },
  {
   "cell_type": "code",
   "execution_count": null,
   "id": "17fd4d76-9445-44c4-a53b-44d720516654",
   "metadata": {},
   "outputs": [],
   "source": []
  }
 ],
 "metadata": {
  "kernelspec": {
   "display_name": "test",
   "language": "python",
   "name": "test"
  },
  "language_info": {
   "codemirror_mode": {
    "name": "ipython",
    "version": 3
   },
   "file_extension": ".py",
   "mimetype": "text/x-python",
   "name": "python",
   "nbconvert_exporter": "python",
   "pygments_lexer": "ipython3",
   "version": "3.10.16"
  }
 },
 "nbformat": 4,
 "nbformat_minor": 5
}
