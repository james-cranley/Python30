{
 "cells": [
  {
   "cell_type": "markdown",
   "id": "c186f775-d147-46a3-bd99-eceef5b3b8d9",
   "metadata": {
    "editable": true,
    "slideshow": {
     "slide_type": "slide"
    },
    "tags": []
   },
   "source": [
    "## **🏁 Wrap-Up**"
   ]
  },
  {
   "cell_type": "markdown",
   "id": "0fb3b372-b5fd-4d44-8872-c21bb2cc3b2b",
   "metadata": {
    "editable": true,
    "slideshow": {
     "slide_type": "fragment"
    },
    "tags": []
   },
   "source": [
    "✅ Feeling less mystified?"
   ]
  },
  {
   "cell_type": "markdown",
   "id": "13195253-3d4b-4244-a13d-dbc586da032e",
   "metadata": {
    "editable": true,
    "slideshow": {
     "slide_type": "fragment"
    },
    "tags": []
   },
   "source": [
    "🧰 A toolkit to start?"
   ]
  },
  {
   "cell_type": "markdown",
   "id": "da6444ed-34e5-4e0f-b49e-ca7bd3a85c59",
   "metadata": {
    "editable": true,
    "slideshow": {
     "slide_type": "fragment"
    },
    "tags": []
   },
   "source": [
    "💡 Ideas you want to try?"
   ]
  },
  {
   "cell_type": "markdown",
   "id": "dcc54750-670f-4a31-92de-99c429c932eb",
   "metadata": {
    "editable": true,
    "slideshow": {
     "slide_type": "slide"
    },
    "tags": []
   },
   "source": [
    "## **📚 Further resources**\n",
    "\n",
    "🦙 chatGPT...\n",
    "\n",
    "🐍 [Python MOOC](https://programming-24.mooc.fi)\n",
    "\n",
    "📜 [Harvard CS50X](https://pll.harvard.edu/course/cs50-introduction-computer-science)\n",
    "\n",
    "---\n",
    "\n",
    "📬 **Questions or Feedback?**  \n",
    "Email: [james.cranley@doctors.org.uk](mailto:james.cranley@doctors.org.uk)  \n",
    "Twitter/X: [@jamescranley](https://x.com/jamescranley)"
   ]
  },
  {
   "cell_type": "code",
   "execution_count": 1,
   "id": "b0d18a57-e1aa-43ef-8555-b3f0ff429416",
   "metadata": {
    "editable": true,
    "slideshow": {
     "slide_type": "skip"
    },
    "tags": []
   },
   "outputs": [
    {
     "name": "stdout",
     "output_type": "stream",
     "text": [
      "[NbConvertApp] Converting notebook outro.ipynb to html\n",
      "[NbConvertApp] Writing 271294 bytes to outro.html\n"
     ]
    }
   ],
   "source": [
    "!jupyter nbconvert outro.ipynb --to html --template reveal"
   ]
  }
 ],
 "metadata": {
  "kernelspec": {
   "display_name": "test",
   "language": "python",
   "name": "test"
  },
  "language_info": {
   "codemirror_mode": {
    "name": "ipython",
    "version": 3
   },
   "file_extension": ".py",
   "mimetype": "text/x-python",
   "name": "python",
   "nbconvert_exporter": "python",
   "pygments_lexer": "ipython3",
   "version": "3.13.2"
  }
 },
 "nbformat": 4,
 "nbformat_minor": 5
}
