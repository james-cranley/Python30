{
 "cells": [
  {
   "cell_type": "markdown",
   "id": "4534810c-341a-46b7-90c9-0145c6e61687",
   "metadata": {
    "editable": true,
    "slideshow": {
     "slide_type": "slide"
    },
    "tags": []
   },
   "source": [
    "# 🐍 Python in 30 mins\n",
    "---\n",
    "## Introduction\n",
    "\n",
    "James Cranley, March 2025"
   ]
  },
  {
   "cell_type": "markdown",
   "id": "82f87c24-5d74-4fd9-8d63-5b3742254f9a",
   "metadata": {
    "editable": true,
    "slideshow": {
     "slide_type": "slide"
    },
    "tags": []
   },
   "source": [
    "## **What is the aim of this session?**\n",
    "✅ A demonstration to **demystify** what code is\n",
    "\n",
    "✅ Give people new to coding the **absolute basics to get started**\n",
    "\n",
    "❌ Not a comprehensive guide\n",
    "\n",
    "❌ Not possible to debug live - some people may get left behind 😩\n",
    "\n",
    "Disclaimer: I am not an _expert_ programmer!"
   ]
  },
  {
   "cell_type": "markdown",
   "id": "169b7509-49fa-46cf-a11d-9439e165b6a5",
   "metadata": {
    "editable": true,
    "slideshow": {
     "slide_type": "slide"
    },
    "tags": []
   },
   "source": [
    "## Show of hands 🤚\n",
    "\n",
    "Never coded 🐣\n",
    "\n",
    "Some experience 🐌\n",
    "\n",
    "Boss 🥷"
   ]
  },
  {
   "cell_type": "markdown",
   "id": "84a7a759-a429-44ad-8408-11039efd8e91",
   "metadata": {
    "editable": true,
    "jp-MarkdownHeadingCollapsed": true,
    "slideshow": {
     "slide_type": "slide"
    },
    "tags": []
   },
   "source": [
    "## **What is Code?**\n",
    "- Code is a set of instructions written in a programming language that a computer can execute.\n",
    "- It allows you to [**automate boring repetitive activities**](https://automatetheboringstuff.com) and do things at a **large scale**.\n",
    "- Common coding languages include Python, Java, and C++.\n",
    "\n",
    "![Automate!](./data/automate.png)"
   ]
  },
  {
   "cell_type": "markdown",
   "id": "d11c5a0f-3bd3-426e-aae8-4f9fcb51c4ac",
   "metadata": {
    "editable": true,
    "slideshow": {
     "slide_type": "slide"
    },
    "tags": []
   },
   "source": [
    "## **What is Python?**\n",
    "- Python is a high-level, versatile programming language known for its readability and ease of use.\n",
    "- It is widely used in data science, machine learning, web development, and automation.\n",
    "- Python supports extensive libraries for scientific computing (NumPy, Pandas, SciPy)."
   ]
  },
  {
   "cell_type": "markdown",
   "id": "90799d22-4452-4ee1-9ab4-b6ded9a7c9c5",
   "metadata": {
    "editable": true,
    "slideshow": {
     "slide_type": "subslide"
    },
    "tags": []
   },
   "source": [
    "## **Python is increasingly popular**\n",
    "\n",
    "![Python growth](./data/python_growth.png)"
   ]
  },
  {
   "attachments": {},
   "cell_type": "markdown",
   "id": "48ac2d81-3964-421e-b385-7d0457a96c8b",
   "metadata": {
    "editable": true,
    "slideshow": {
     "slide_type": "slide"
    },
    "tags": []
   },
   "source": [
    "## **What are Jupyter Notebooks/Lab?**\n",
    "- A **Jupyter Notebook** is an interactive environment where users can write and execute Python code.\n",
    "- It allows mixing of **code, markdown (text), and visualizations**, making it useful for data science and research.\n",
    "- This presentation is a Jupyter Notebook!\n",
    "- **Jupyter Lab** is an upgraded version of Jupyter Notebook, offering a more flexible and powerful interface for working with multiple documents and tools.\n",
    "- They are very popular in 'data science' fields and are maintained by [The Jupyter Project](https://docs.jupyter.org).\n",
    "\n",
    "![Jupyter Lab](./data/jupyterlab.png)"
   ]
  },
  {
   "cell_type": "markdown",
   "id": "46a40c0f-99be-4a1a-94cb-471f292acb94",
   "metadata": {
    "editable": true,
    "slideshow": {
     "slide_type": "slide"
    },
    "tags": []
   },
   "source": [
    "## **What are Conda Environments?**\n",
    "- A **Conda environment** is an isolated workspace for managing dependencies and packages.\n",
    "- It allows different projects to use different versions of Python and libraries without conflicts.\n",
    "- Commands like `conda create -n my_env python=3.9` help set up environments easily.\n",
    "\n",
    "![Conda Environments](./data/what_are_environments.png)"
   ]
  },
  {
   "cell_type": "markdown",
   "id": "92e91267-a3c8-4496-8ab5-e8aec72cb77d",
   "metadata": {
    "editable": true,
    "slideshow": {
     "slide_type": "slide"
    },
    "tags": []
   },
   "source": [
    "## **What is the Command Line?**\n",
    "- The **command line** is a text-based interface used to **interact with a computer’s operating system**.\n",
    "- It allows users to execute commands, manage files, and run programs efficiently.\n",
    "- The **Command Line Interface (CLI)** is an alternative to the **Graphical User Interface (GUI)** which most people use more.\n",
    "- Common command-line tools include **Terminal (macOS/Linux)** and **Command Prompt (Windows)**.\n",
    "\n",
    "![TheCLI](./data/cli.png)"
   ]
  },
  {
   "cell_type": "markdown",
   "id": "45d2d780-8f4c-4e27-99b0-f53437a9a8ba",
   "metadata": {
    "editable": true,
    "slideshow": {
     "slide_type": "slide"
    },
    "tags": []
   },
   "source": [
    "## **History**\n",
    "- The **command line** dates back to the 1960s with early operating systems like UNIX written by **Ken Thompson** (L) and **Dennis Ritchie** (R) at Bell Labs. Dennis also wrote `C` single-handed!\n",
    "- **Python** was created by **Guido van Rossum** in 1991 as a simple, readable language for general-purpose programming.\n",
    "- **Conda** was introduced in 2012 by Anaconda Inc. to simplify package and environment management for data science.\n",
    "\n",
    "![RitchieandThompson73](./data/DennisRitchie_KenThompson1973.jpg)"
   ]
  },
  {
   "cell_type": "markdown",
   "id": "21938f72-2608-4d26-912a-b548a7a22674",
   "metadata": {
    "editable": true,
    "slideshow": {
     "slide_type": "slide"
    },
    "tags": []
   },
   "source": [
    "## **Let's start**\n",
    "1. Download the zip file\n",
    "2. Unzip the file (if necessary)\n",
    "3. Start jupyter lab"
   ]
  },
  {
   "cell_type": "markdown",
   "id": "acca037e-36f9-4df2-ab9a-ef8bb3ed4bb9",
   "metadata": {
    "editable": true,
    "jp-MarkdownHeadingCollapsed": true,
    "slideshow": {
     "slide_type": "slide"
    },
    "tags": []
   },
   "source": [
    "## 1. Download the zip file\n",
    "Go to https://github.com/james-cranley/Python30\n",
    "\n",
    "Click the green `<> Code` button and select `Download ZIP`\n",
    "\n",
    "![download_ZIP](./data/download_ZIP.png)"
   ]
  },
  {
   "cell_type": "markdown",
   "id": "a0863cbd-1df5-4e5d-a754-f0326ccfdfb9",
   "metadata": {
    "editable": true,
    "jp-MarkdownHeadingCollapsed": true,
    "slideshow": {
     "slide_type": "slide"
    },
    "tags": []
   },
   "source": [
    "## 2. Unzip the zip file: Mac\n",
    "\n",
    "It may be unzipped already, if not: Double click on the zip file\n",
    "\n",
    "![mac_unzipped_zip](./data/mac_unzipped_zip.png)"
   ]
  },
  {
   "cell_type": "markdown",
   "id": "71e71e28-9d48-4993-b082-77abafdbaa50",
   "metadata": {
    "editable": true,
    "jp-MarkdownHeadingCollapsed": true,
    "slideshow": {
     "slide_type": "subslide"
    },
    "tags": []
   },
   "source": [
    "## 2. Unzip the zip file: Windows\n",
    "\n",
    "It may be unzipped already, if not: zRight-click > Extract all...\n",
    "\n",
    "![win_unzip_zip_1](./data/win_unzip_zip_1.png)"
   ]
  },
  {
   "cell_type": "markdown",
   "id": "66777c2a-831e-45f3-9afe-c7441ec10417",
   "metadata": {
    "editable": true,
    "jp-MarkdownHeadingCollapsed": true,
    "slideshow": {
     "slide_type": "subslide"
    },
    "tags": []
   },
   "source": [
    "## 2. Unzip the zip file: Windows\n",
    "\n",
    "It may be unzipped already, if not:\n",
    "\n",
    "Windows: Right-click > Extract all...\n",
    "\n",
    "![win_unzip_zip_2](./data/win_unzip_zip_2.png)"
   ]
  },
  {
   "cell_type": "markdown",
   "id": "36a394ac-0495-4ea7-88ac-c59f540dae75",
   "metadata": {
    "editable": true,
    "slideshow": {
     "slide_type": "slide"
    },
    "tags": []
   },
   "source": [
    "## 3. Start Jupyter Lab: Mac\n",
    "\n",
    "Open **Terminal**\n",
    "\n",
    "Type the following, then press `return`\n",
    "```bash\n",
    "conda activate test\n",
    "```\n",
    "\n",
    "Then type the following, then press `return`\n",
    "```bash\n",
    "jupyter lab\n",
    "```\n",
    "NB the space between **jupyter lab** is important\n",
    "\n",
    "![mac_start_jupyterlab](./data/mac_start_jupyterlab.png)"
   ]
  },
  {
   "cell_type": "markdown",
   "id": "b304455c-9c7d-4111-8616-18a477295070",
   "metadata": {
    "editable": true,
    "slideshow": {
     "slide_type": "subslide"
    },
    "tags": []
   },
   "source": [
    "## 3. Start Jupyter Lab: Windows\n",
    "\n",
    "Open **Command Prompt** (Windows)\n",
    "\n",
    "Type the following, then press `return`\n",
    "```bash\n",
    "conda activate test\n",
    "```\n",
    "\n",
    "Then type the following, then press `return`\n",
    "```bash\n",
    "jupyter lab\n",
    "```\n",
    "NB the space between **jupyter lab** is important\n",
    "\n",
    "![win_start_jupyterlab](./data/win_start_jupyterlab.png)"
   ]
  },
  {
   "cell_type": "markdown",
   "id": "09886b1a-a810-42bb-acde-0f5f0398f464",
   "metadata": {
    "editable": true,
    "slideshow": {
     "slide_type": "slide"
    },
    "tags": []
   },
   "source": [
    "## Navigate to the downloaded notebooks\n",
    "\n",
    "Jupyter Lab will now start in your web browser\n",
    "\n",
    "In the **File Browser** on the left of Jupyter Lab, navigate to the unzipped folder by double-clicking on folders\n",
    "\n",
    "This will normally be in **Downloads** (or wherever your downloaded files normally go)\n",
    "\n",
    "![win_jupyterlab_navigate_1](./data/win_jupyterlab_navigate_1.png)"
   ]
  },
  {
   "cell_type": "markdown",
   "id": "23563dd4-d45d-4269-9370-7358882f025a",
   "metadata": {
    "editable": true,
    "slideshow": {
     "slide_type": "subslide"
    },
    "tags": []
   },
   "source": [
    "## Navigate to the downloaded notebooks\n",
    "\n",
    "Keep double clicking to go into the unzipped folder\n",
    "\n",
    "![win_jupyterlab_navigate_2](./data/win_jupyterlab_navigate_2.png)"
   ]
  },
  {
   "cell_type": "markdown",
   "id": "a385ec7d-fa8f-4a3d-b1fc-8363a3eef743",
   "metadata": {
    "editable": true,
    "slideshow": {
     "slide_type": "subslide"
    },
    "tags": []
   },
   "source": [
    "## Navigate to the downloaded notebooks\n",
    "\n",
    "You will come to a folder called **notebooks**. Inside that is a folder called **exercises**\n",
    "\n",
    "![mac_jupyterlab_navigate_3](./data/mac_jupyterlab_navigate_3.png)"
   ]
  },
  {
   "cell_type": "code",
   "execution_count": 1,
   "id": "b0d18a57-e1aa-43ef-8555-b3f0ff429416",
   "metadata": {
    "editable": true,
    "slideshow": {
     "slide_type": "skip"
    },
    "tags": []
   },
   "outputs": [
    {
     "name": "stdout",
     "output_type": "stream",
     "text": [
      "[NbConvertApp] Converting notebook introduction.ipynb to html\n",
      "[NbConvertApp] Writing 286938 bytes to introduction.html\n"
     ]
    }
   ],
   "source": [
    "!jupyter nbconvert introduction.ipynb --to html --template reveal"
   ]
  }
 ],
 "metadata": {
  "kernelspec": {
   "display_name": "test",
   "language": "python",
   "name": "test"
  },
  "language_info": {
   "codemirror_mode": {
    "name": "ipython",
    "version": 3
   },
   "file_extension": ".py",
   "mimetype": "text/x-python",
   "name": "python",
   "nbconvert_exporter": "python",
   "pygments_lexer": "ipython3",
   "version": "3.10.16"
  }
 },
 "nbformat": 4,
 "nbformat_minor": 5
}
