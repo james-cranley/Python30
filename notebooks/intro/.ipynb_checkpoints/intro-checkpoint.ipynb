{
 "cells": [
  {
   "cell_type": "markdown",
   "id": "4534810c-341a-46b7-90c9-0145c6e61687",
   "metadata": {
    "editable": true,
    "slideshow": {
     "slide_type": "slide"
    },
    "tags": []
   },
   "source": [
    "# 🐍 Python in 30 mins\n",
    "---\n",
    "## Introduction\n",
    "\n",
    "**James Cranley**\n",
    "\n",
    "March 2025"
   ]
  },
  {
   "cell_type": "markdown",
   "id": "c186f775-d147-46a3-bd99-eceef5b3b8d9",
   "metadata": {
    "editable": true,
    "slideshow": {
     "slide_type": "slide"
    },
    "tags": []
   },
   "source": [
    "## **My Background**\n",
    "\n",
    "EP Trainee at Papworth\n",
    "\n",
    "PhD at the Sanger Institute\n",
    "\n",
    "Clinical lecturer at CU"
   ]
  },
  {
   "cell_type": "markdown",
   "id": "dcc54750-670f-4a31-92de-99c429c932eb",
   "metadata": {
    "editable": true,
    "jp-MarkdownHeadingCollapsed": true,
    "slideshow": {
     "slide_type": "slide"
    },
    "tags": []
   },
   "source": [
    "## **🧐 Coding...why?**\n",
    "1️⃣ Coding is helpful for any research\n",
    "\n",
    "2️⃣ Getting started is the hardest part"
   ]
  },
  {
   "cell_type": "markdown",
   "id": "7befa1db-f63e-4ffe-ac82-850ba8d03c1e",
   "metadata": {
    "editable": true,
    "slideshow": {
     "slide_type": "slide"
    },
    "tags": []
   },
   "source": [
    "## **What is the aim of this session?**\n",
    "\n",
    "⏱ 10 mins talking/20 mins coding\n",
    "\n",
    "✅ Non-coders: **Demystify** code\n",
    "\n",
    "✅ Curious: **A toolkit to get started**\n",
    "\n",
    "🤿 This is an **immersive approach** - do not expect to understand everything first-pass\n",
    "\n",
    "❌ Not comprehensive\n",
    "\n",
    "❌ Not possible to troubleshoot live - some people may get left behind 😩"
   ]
  },
  {
   "cell_type": "markdown",
   "id": "d6ff8c84-9556-4812-9cff-995ab38b8783",
   "metadata": {
    "editable": true,
    "slideshow": {
     "slide_type": "skip"
    },
    "tags": []
   },
   "source": [
    "![do_it_live!](./data/do_it_live.jpg)"
   ]
  },
  {
   "cell_type": "markdown",
   "id": "1ba129d1-c8cd-400f-bb15-91807c861d67",
   "metadata": {
    "editable": true,
    "jp-MarkdownHeadingCollapsed": true,
    "slideshow": {
     "slide_type": "slide"
    },
    "tags": []
   },
   "source": [
    "## **Prep for a training day?!**\n",
    "\n",
    "If you did it, code along!\n",
    "\n",
    "If you didn't do it... no worries, just watch (or you could do it now 😉)"
   ]
  },
  {
   "cell_type": "markdown",
   "id": "169b7509-49fa-46cf-a11d-9439e165b6a5",
   "metadata": {
    "editable": true,
    "slideshow": {
     "slide_type": "slide"
    },
    "tags": []
   },
   "source": [
    "## Show of hands 🤚"
   ]
  },
  {
   "cell_type": "markdown",
   "id": "cff025e0-2563-4b26-aa28-66340099a050",
   "metadata": {
    "editable": true,
    "jp-MarkdownHeadingCollapsed": true,
    "slideshow": {
     "slide_type": "fragment"
    },
    "tags": []
   },
   "source": [
    "Never coded 🐣"
   ]
  },
  {
   "cell_type": "markdown",
   "id": "1f7a60f4-1efa-45da-9c0f-d887e6e14944",
   "metadata": {
    "editable": true,
    "jp-MarkdownHeadingCollapsed": true,
    "slideshow": {
     "slide_type": "fragment"
    },
    "tags": []
   },
   "source": [
    "Some experience 🐌"
   ]
  },
  {
   "cell_type": "markdown",
   "id": "12a2e8ab-cbcc-4508-b436-082caf02c3cc",
   "metadata": {
    "editable": true,
    "jp-MarkdownHeadingCollapsed": true,
    "slideshow": {
     "slide_type": "fragment"
    },
    "tags": []
   },
   "source": [
    "Boss 🥷"
   ]
  },
  {
   "cell_type": "markdown",
   "id": "03d9f16a-279a-4aa1-9a78-89218dfd39ce",
   "metadata": {
    "editable": true,
    "jp-MarkdownHeadingCollapsed": true,
    "slideshow": {
     "slide_type": "fragment"
    },
    "tags": []
   },
   "source": [
    "... Tech Support 🧑‍🔧"
   ]
  },
  {
   "cell_type": "markdown",
   "id": "84a7a759-a429-44ad-8408-11039efd8e91",
   "metadata": {
    "editable": true,
    "jp-MarkdownHeadingCollapsed": true,
    "slideshow": {
     "slide_type": "slide"
    },
    "tags": []
   },
   "source": [
    "## **What is Code?**\n",
    "- Written instructions for your computer\n",
    "- It allows you to [**automate boring repetitive activities**](https://automatetheboringstuff.com)\n",
    "- Common coding languages include Java, C++, and **Python**\n",
    "\n",
    "![Automate!](./data/automate.png)"
   ]
  },
  {
   "cell_type": "markdown",
   "id": "d11c5a0f-3bd3-426e-aae8-4f9fcb51c4ac",
   "metadata": {
    "editable": true,
    "slideshow": {
     "slide_type": "slide"
    },
    "tags": []
   },
   "source": [
    "## **Why Python?**\n",
    "\n",
    "- 'Human readable' ➡️ **quick to learn**\n",
    "\n",
    "- Incredibly **versatile**: data analysis, machine learning, machine vision, web dev"
   ]
  },
  {
   "cell_type": "markdown",
   "id": "90799d22-4452-4ee1-9ab4-b6ded9a7c9c5",
   "metadata": {
    "editable": true,
    "slideshow": {
     "slide_type": "subslide"
    },
    "tags": []
   },
   "source": [
    "## **Python is the most popular language in the world, and rising**\n",
    "\n",
    "![Python growth](./data/python_growth.png)"
   ]
  },
  {
   "attachments": {},
   "cell_type": "markdown",
   "id": "48ac2d81-3964-421e-b385-7d0457a96c8b",
   "metadata": {
    "editable": true,
    "slideshow": {
     "slide_type": "slide"
    },
    "tags": []
   },
   "source": [
    "## **What are Jupyter Notebooks?**\n",
    "- A [Jupyter](https://docs.jupyter.org) Notebook is an **interactive environment where you can write _and execute_** Python (and R and Julia) code.\n",
    "- Has become **the standard for data science** in Python (and R) \n",
    "- **Versatile**: can be run as scripts or converted to webpages. This presentation is a Jupyter Notebook!\n",
    "\n",
    "![Jupyter Lab](./data/jupyterlab.png)"
   ]
  },
  {
   "cell_type": "markdown",
   "id": "46a40c0f-99be-4a1a-94cb-471f292acb94",
   "metadata": {
    "editable": true,
    "slideshow": {
     "slide_type": "slide"
    },
    "tags": []
   },
   "source": [
    "## **What are 'environments'?**\n",
    "- A environment is **an isolated workspace on your computer**\n",
    "- You can install software which is compatible with each other in them\n",
    "- `conda` is a popular environment manager, there are others\n",
    "\n",
    "![Conda Environments](./data/what_are_environments.png)"
   ]
  },
  {
   "cell_type": "markdown",
   "id": "92e91267-a3c8-4496-8ab5-e8aec72cb77d",
   "metadata": {
    "editable": true,
    "jp-MarkdownHeadingCollapsed": true,
    "slideshow": {
     "slide_type": "skip"
    },
    "tags": []
   },
   "source": [
    "## **What is the Command Line?**\n",
    "- The **Command Line Interface (CLI)** is a text-based interface to **interact with a computer’s operating system**.\n",
    "- The CLI is an alternative to the **Graphical User Interface (GUI)** which we all know.\n",
    "- Common command-line tools include **Terminal (macOS/Linux)** and **Command Prompt (Windows)**.\n",
    "\n",
    "![TheCLI](./data/cli.png)"
   ]
  },
  {
   "cell_type": "markdown",
   "id": "45d2d780-8f4c-4e27-99b0-f53437a9a8ba",
   "metadata": {
    "editable": true,
    "slideshow": {
     "slide_type": "slide"
    },
    "tags": []
   },
   "source": [
    "## **History**\n",
    "- The **command line** dates back to the 1960s with early operating systems like UNIX written by **Ken Thompson** (L) and **Dennis Ritchie** (R) at Bell Labs. Dennis also wrote `C` single-handed!\n",
    "- **Python** was created by **Guido van Rossum** in 1991 as a simple, readable language for general-purpose programming.\n",
    "- **Conda** was introduced in 2012 by Anaconda Inc. to simplify package and environment management for data science.\n",
    "\n",
    "![RitchieandThompson73](./data/DennisRitchie_KenThompson1973.jpg)"
   ]
  },
  {
   "cell_type": "markdown",
   "id": "21938f72-2608-4d26-912a-b548a7a22674",
   "metadata": {
    "editable": true,
    "slideshow": {
     "slide_type": "slide"
    },
    "tags": []
   },
   "source": [
    "## **Let's start**\n",
    "1. Download the zip file\n",
    "2. Unzip the file (if necessary)\n",
    "3. Start jupyter lab"
   ]
  },
  {
   "cell_type": "markdown",
   "id": "acca037e-36f9-4df2-ab9a-ef8bb3ed4bb9",
   "metadata": {
    "editable": true,
    "jp-MarkdownHeadingCollapsed": true,
    "slideshow": {
     "slide_type": "slide"
    },
    "tags": []
   },
   "source": [
    "## 1. Download the zip file\n",
    "Go to https://github.com/james-cranley/Python30\n",
    "\n",
    "Click the green `<> Code` button and select `Download ZIP`\n",
    "\n",
    "![download_ZIP](./data/download_ZIP.png)"
   ]
  },
  {
   "cell_type": "markdown",
   "id": "a0863cbd-1df5-4e5d-a754-f0326ccfdfb9",
   "metadata": {
    "editable": true,
    "jp-MarkdownHeadingCollapsed": true,
    "slideshow": {
     "slide_type": "slide"
    },
    "tags": []
   },
   "source": [
    "## 2. Unzip the zip file: Mac\n",
    "\n",
    "It may be unzipped already, if not: **Double click** on the zip file\n",
    "\n",
    "![mac_unzipped_zip](./data/mac_unzipped_zip.png)"
   ]
  },
  {
   "cell_type": "markdown",
   "id": "71e71e28-9d48-4993-b082-77abafdbaa50",
   "metadata": {
    "editable": true,
    "jp-MarkdownHeadingCollapsed": true,
    "slideshow": {
     "slide_type": "subslide"
    },
    "tags": []
   },
   "source": [
    "## 2. Unzip the zip file: Windows\n",
    "\n",
    "It may be unzipped already, if not: **Right-click > Extract all...**\n",
    "\n",
    "![win_unzip_zip_1](./data/win_unzip_zip_1.png)"
   ]
  },
  {
   "cell_type": "markdown",
   "id": "66777c2a-831e-45f3-9afe-c7441ec10417",
   "metadata": {
    "editable": true,
    "jp-MarkdownHeadingCollapsed": true,
    "slideshow": {
     "slide_type": "subslide"
    },
    "tags": []
   },
   "source": [
    "## 2. Unzip the zip file: Windows\n",
    "\n",
    "It may be unzipped already, if not:\n",
    "\n",
    "Windows: **Right-click > Extract all...**\n",
    "\n",
    "![win_unzip_zip_2](./data/win_unzip_zip_2.png)"
   ]
  },
  {
   "cell_type": "markdown",
   "id": "36a394ac-0495-4ea7-88ac-c59f540dae75",
   "metadata": {
    "editable": true,
    "slideshow": {
     "slide_type": "slide"
    },
    "tags": []
   },
   "source": [
    "## 3. Start Jupyter Lab\n",
    "\n",
    "Open a terminal application (Mac: **Terminal**, Windows: **Command Prompt**)\n",
    "\n",
    "Type the following, then press `return`\n",
    "```bash\n",
    "conda activate test\n",
    "```"
   ]
  },
  {
   "cell_type": "markdown",
   "id": "459d8038-4e90-4a83-83eb-c151f406bb09",
   "metadata": {
    "editable": true,
    "jp-MarkdownHeadingCollapsed": true,
    "slideshow": {
     "slide_type": "fragment"
    },
    "tags": []
   },
   "source": [
    "Then type the following, then press `return`\n",
    "```bash\n",
    "jupyter lab\n",
    "```\n",
    "NB the space between **jupyter lab** is important"
   ]
  },
  {
   "cell_type": "markdown",
   "id": "800f2e45-e943-4ce3-895c-ccc9bfba6401",
   "metadata": {
    "editable": true,
    "jp-MarkdownHeadingCollapsed": true,
    "slideshow": {
     "slide_type": "fragment"
    },
    "tags": []
   },
   "source": [
    "| Mac | Windows |\n",
    "| -------------------- | ------------------------ |\n",
    "| ![mac_start_jupyterlab](./data/mac_start_jupyterlab.png) | ![win_start_jupyterlab](./data/win_start_jupyterlab.png) |"
   ]
  },
  {
   "cell_type": "markdown",
   "id": "09886b1a-a810-42bb-acde-0f5f0398f464",
   "metadata": {
    "editable": true,
    "slideshow": {
     "slide_type": "slide"
    },
    "tags": []
   },
   "source": [
    "## Navigate to the downloaded notebooks\n",
    "\n",
    "Jupyter Lab will now start in your web browser\n",
    "\n",
    "In the **File Browser** on the left of Jupyter Lab, navigate to the unzipped folder by double-clicking on folders\n",
    "\n",
    "This will normally be in **Downloads** (or wherever your downloaded files normally go)\n",
    "\n",
    "![win_jupyterlab_navigate_1](./data/win_jupyterlab_navigate_1.png)"
   ]
  },
  {
   "cell_type": "markdown",
   "id": "23563dd4-d45d-4269-9370-7358882f025a",
   "metadata": {
    "editable": true,
    "slideshow": {
     "slide_type": "subslide"
    },
    "tags": []
   },
   "source": [
    "## Navigate to the downloaded notebooks\n",
    "\n",
    "Keep double clicking to go into the unzipped folder\n",
    "\n",
    "![win_jupyterlab_navigate_2](./data/win_jupyterlab_navigate_2.png)"
   ]
  },
  {
   "cell_type": "markdown",
   "id": "a385ec7d-fa8f-4a3d-b1fc-8363a3eef743",
   "metadata": {
    "editable": true,
    "slideshow": {
     "slide_type": "subslide"
    },
    "tags": []
   },
   "source": [
    "## Navigate to the downloaded notebooks\n",
    "\n",
    "You will come to a folder called **notebooks**. Inside that is a folder called **exercises**\n",
    "\n",
    "![mac_jupyterlab_navigate_3](./data/mac_jupyterlab_navigate_3.png)"
   ]
  },
  {
   "cell_type": "markdown",
   "id": "c31e8d67-ea71-403e-8e4a-925d975a35cb",
   "metadata": {
    "editable": true,
    "slideshow": {
     "slide_type": "slide"
    },
    "tags": []
   },
   "source": [
    "**Now you are ready to begin** 👌"
   ]
  },
  {
   "cell_type": "code",
   "execution_count": 1,
   "id": "b0d18a57-e1aa-43ef-8555-b3f0ff429416",
   "metadata": {
    "editable": true,
    "slideshow": {
     "slide_type": "skip"
    },
    "tags": []
   },
   "outputs": [
    {
     "name": "stdout",
     "output_type": "stream",
     "text": [
      "[NbConvertApp] Converting notebook intro.ipynb to html\n",
      "[NbConvertApp] Writing 290027 bytes to intro.html\n"
     ]
    }
   ],
   "source": [
    "!jupyter nbconvert intro.ipynb --to html --template reveal"
   ]
  }
 ],
 "metadata": {
  "kernelspec": {
   "display_name": "test",
   "language": "python",
   "name": "test"
  },
  "language_info": {
   "codemirror_mode": {
    "name": "ipython",
    "version": 3
   },
   "file_extension": ".py",
   "mimetype": "text/x-python",
   "name": "python",
   "nbconvert_exporter": "python",
   "pygments_lexer": "ipython3",
   "version": "3.10.16"
  }
 },
 "nbformat": 4,
 "nbformat_minor": 5
}
