{
 "cells": [
  {
   "attachments": {},
   "cell_type": "markdown",
   "id": "0d91afd4-f4d5-4280-8dd2-f97fe809c8f6",
   "metadata": {},
   "source": [
    "# **Introduction to Data Types in Python 🐍**\n",
    "---\n",
    "\n",
    "This is an introduction to basic data types, as well as demonstrating simple functions like `print()`"
   ]
  },
  {
   "cell_type": "markdown",
   "id": "aaca51b5-b5da-4123-9c51-d1aa29e3b107",
   "metadata": {},
   "source": [
    "## **1. Variables**\n",
    "\n",
    "A **variable** is a name that stores some data in memory.\n",
    "\n",
    "It acts as a reference to data, allowing us to use values."
   ]
  },
  {
   "cell_type": "code",
   "execution_count": 1,
   "id": "fbd64196-f652-479b-a87b-cd2e2d2dd001",
   "metadata": {},
   "outputs": [],
   "source": [
    "# Let's make some variables\n",
    "\n",
    "x = 10 # Assign an INTEGER value\n",
    "y = 3.5 # Assign a FLOAT (non-integer number) value\n",
    "name = \"Alice\" # Assign a STRING value"
   ]
  },
  {
   "cell_type": "code",
   "execution_count": 2,
   "id": "e8d6d759-8f89-4899-a7cd-2baa359c808d",
   "metadata": {},
   "outputs": [
    {
     "name": "stdout",
     "output_type": "stream",
     "text": [
      "10\n"
     ]
    }
   ],
   "source": [
    "# Now that we have assigned them we can use them\n",
    "print(x)"
   ]
  },
  {
   "cell_type": "code",
   "execution_count": 3,
   "id": "2314ecd6-7ce6-486c-bb60-f76c32f1784e",
   "metadata": {},
   "outputs": [
    {
     "name": "stdout",
     "output_type": "stream",
     "text": [
      "3.5\n"
     ]
    }
   ],
   "source": [
    "print(y)"
   ]
  },
  {
   "cell_type": "code",
   "execution_count": 4,
   "id": "acda84c5-6d6f-458a-b0eb-55ee8cf64464",
   "metadata": {},
   "outputs": [
    {
     "name": "stdout",
     "output_type": "stream",
     "text": [
      "Alice\n"
     ]
    }
   ],
   "source": [
    "print(name)"
   ]
  },
  {
   "cell_type": "markdown",
   "id": "887718ff-37f2-4706-9a43-3d7c529af5d6",
   "metadata": {},
   "source": [
    "## **2. Lists**\n",
    "A **list** is an ordered, mutable (editable) collection of items.\n",
    "\n",
    "Lists can hold values of any type, including numbers, strings, and even other lists."
   ]
  },
  {
   "cell_type": "code",
   "execution_count": 5,
   "id": "0e126391-97ef-423e-9247-dcd466cf0d34",
   "metadata": {},
   "outputs": [
    {
     "name": "stdout",
     "output_type": "stream",
     "text": [
      "[1, 2, 3, 4, 5]\n"
     ]
    }
   ],
   "source": [
    "numbers = [1, 2, 3, 4, 5] # Define a list\n",
    "print(numbers)"
   ]
  },
  {
   "cell_type": "code",
   "execution_count": 6,
   "id": "1a61e9ea-361d-486d-af60-4f04579a2cfe",
   "metadata": {},
   "outputs": [
    {
     "name": "stdout",
     "output_type": "stream",
     "text": [
      "[1, 2, 3, 4, 5, 6]\n"
     ]
    }
   ],
   "source": [
    "numbers.append(6) # Add an element to the list\n",
    "print(numbers) # Output: [1, 2, 3, 4, 5, 6]"
   ]
  },
  {
   "cell_type": "code",
   "execution_count": 7,
   "id": "4590c24e-1251-4125-9175-347ec1e27530",
   "metadata": {},
   "outputs": [
    {
     "name": "stdout",
     "output_type": "stream",
     "text": [
      "[1, 3, 4, 5, 6]\n"
     ]
    }
   ],
   "source": [
    "numbers.remove(2) # Remove a specific value\n",
    "print(numbers) # Output: [1, 3, 4, 5, 6]"
   ]
  },
  {
   "cell_type": "markdown",
   "id": "40be5624-7dff-401c-916d-b3a724d1b389",
   "metadata": {},
   "source": [
    "## **3. Dictionaries**\n",
    "A **dictionary** is a collection of key-value pairs.\n",
    "\n",
    "It allows quick lookups of values based on unique keys."
   ]
  },
  {
   "cell_type": "code",
   "execution_count": 8,
   "id": "689f24de-8834-443b-a60e-d61054cd945e",
   "metadata": {},
   "outputs": [],
   "source": [
    "patient = {\n",
    "    \"name\": \"John Doe\",\n",
    "    \"age\": 45,\n",
    "    \"condition\": \"Hypertension\"}"
   ]
  },
  {
   "cell_type": "code",
   "execution_count": 9,
   "id": "958a9b85-eeeb-46cc-8351-0196d717742c",
   "metadata": {},
   "outputs": [
    {
     "name": "stdout",
     "output_type": "stream",
     "text": [
      "John Doe\n"
     ]
    }
   ],
   "source": [
    "print(patient[\"name\"]) # Access value using a key → \"John Doe\""
   ]
  },
  {
   "cell_type": "code",
   "execution_count": 10,
   "id": "0626d719-eb2f-4ca2-ac27-bbf5a14485e8",
   "metadata": {},
   "outputs": [
    {
     "name": "stdout",
     "output_type": "stream",
     "text": [
      "{'name': 'John Doe', 'age': 45, 'condition': 'Hypertension'}\n"
     ]
    }
   ],
   "source": [
    "print(patient)"
   ]
  }
 ],
 "metadata": {
  "kernelspec": {
   "display_name": "test",
   "language": "python",
   "name": "test"
  },
  "language_info": {
   "codemirror_mode": {
    "name": "ipython",
    "version": 3
   },
   "file_extension": ".py",
   "mimetype": "text/x-python",
   "name": "python",
   "nbconvert_exporter": "python",
   "pygments_lexer": "ipython3",
   "version": "3.13.2"
  }
 },
 "nbformat": 4,
 "nbformat_minor": 5
}
