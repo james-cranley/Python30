{
 "cells": [
  {
   "cell_type": "markdown",
   "id": "3578e08e-7198-418c-8c39-e06c13480f90",
   "metadata": {},
   "source": [
    "# Cleaning and batch-processing data 🧽\n",
    "\n",
    "**Author:** James Cranley (<james.cranley@doctors.org.uk>)  \n",
    "**Date:** March 2025\n",
    "\n",
    "---"
   ]
  },
  {
   "cell_type": "markdown",
   "id": "1967adde-35f1-49cf-8501-e662b683082a",
   "metadata": {},
   "source": [
    "## Overview\n",
    "\n",
    "This notebook shows how programming approaches can save a lot of time compared to manual approaches to clean data.\n",
    "\n",
    "### What You'll Learn\n",
    "\n",
    "- **Reading in multiple files**\n",
    "- **Regular expressions:** Use regex to pattern-match\n",
    "- **Batch processing:** Apply a standardised edit to multiple files"
   ]
  },
  {
   "cell_type": "markdown",
   "id": "a731edbc-4cbd-47d8-914c-e0c1939b5609",
   "metadata": {},
   "source": [
    "## Exercise\n",
    "<div style=\"border-left: 4px solid #007acc; padding: 0.5em 1em; background-color: #f0f8ff; margin: 1em 0;\">\n",
    "  <h4>👨‍🏫 Scenario</h4>\n",
    "  <p>Bob here, I've send you some HbA1c data collected over previous years, can you clean it up and send it back to me?</p>\n",
    "</div>"
   ]
  },
  {
   "cell_type": "code",
   "execution_count": 1,
   "id": "4a8a434c-e975-4862-953d-0fa3dcd4e79f",
   "metadata": {},
   "outputs": [],
   "source": [
    "import os # operating system: for interacting with files\n",
    "import pandas # key tabular data package in python\n",
    "import numpy # important package for mathematics in python\n",
    "import re # the regualr expression package, used for pattern-matching, see below\n",
    "import time  # the time module, useful for...timing things"
   ]
  },
  {
   "cell_type": "markdown",
   "id": "42da183c-ddf0-49ee-a8a3-ea328077cfcc",
   "metadata": {},
   "source": [
    "### Reading data into dataframes"
   ]
  },
  {
   "cell_type": "code",
   "execution_count": 2,
   "id": "fc7f5367-0c19-43ca-a17b-0700c785da69",
   "metadata": {},
   "outputs": [],
   "source": [
    "input_directory_path = \"./data/hba1c/\" # this is the path to a folder"
   ]
  },
  {
   "cell_type": "markdown",
   "id": "71f67e79-d06f-4ad1-adf8-e5b19e68243d",
   "metadata": {},
   "source": [
    "We us the os module to inspect what is in the directory"
   ]
  },
  {
   "cell_type": "code",
   "execution_count": 3,
   "id": "16efafef-0918-4494-9390-048548ab2ad0",
   "metadata": {},
   "outputs": [
    {
     "data": {
      "text/plain": [
       "['2021.xlsx',\n",
       " '2017.xlsx',\n",
       " '2016.xlsx',\n",
       " '2020.xlsx',\n",
       " '2024.xlsx',\n",
       " '2019.xlsx',\n",
       " '2023.xlsx',\n",
       " '2015.xlsx',\n",
       " '2014.xlsx',\n",
       " '2022.xlsx',\n",
       " '2018.xlsx']"
      ]
     },
     "execution_count": 3,
     "metadata": {},
     "output_type": "execute_result"
    }
   ],
   "source": [
    "os.listdir(input_directory_path)"
   ]
  },
  {
   "cell_type": "markdown",
   "id": "a29e160a-5ef8-4867-92b6-e9d24a54a9a5",
   "metadata": {},
   "source": [
    "A bunch of Excel files, one per year"
   ]
  },
  {
   "cell_type": "markdown",
   "id": "d976fe19-bb2b-4063-8053-ef1d8ed0fdab",
   "metadata": {},
   "source": [
    "### Inspect the data"
   ]
  },
  {
   "cell_type": "code",
   "execution_count": 4,
   "id": "f951657e-5790-4e78-abf6-849e00b2d507",
   "metadata": {},
   "outputs": [],
   "source": [
    "sample_file_1 = \"2021.xlsx\" # let's choose one file"
   ]
  },
  {
   "cell_type": "code",
   "execution_count": 5,
   "id": "0f3f58d0-3e1d-49a2-b48f-f6527ad643e9",
   "metadata": {},
   "outputs": [
    {
     "data": {
      "text/plain": [
       "'./data/hba1c/2021.xlsx'"
      ]
     },
     "execution_count": 5,
     "metadata": {},
     "output_type": "execute_result"
    }
   ],
   "source": [
    "sample_file_1_path = os.path.join(input_directory_path,sample_file_1) # this line creates a path to that file\n",
    "sample_file_1_path"
   ]
  },
  {
   "cell_type": "markdown",
   "id": "d0462014-bbd7-4f8a-8e0f-b5f11d652a06",
   "metadata": {},
   "source": [
    "As we did before, we use pandas to read in the file"
   ]
  },
  {
   "cell_type": "code",
   "execution_count": 6,
   "id": "227af3d6-6ff9-4e83-ba54-1ef6d1d0875d",
   "metadata": {},
   "outputs": [
    {
     "data": {
      "text/html": [
       "<div>\n",
       "<style scoped>\n",
       "    .dataframe tbody tr th:only-of-type {\n",
       "        vertical-align: middle;\n",
       "    }\n",
       "\n",
       "    .dataframe tbody tr th {\n",
       "        vertical-align: top;\n",
       "    }\n",
       "\n",
       "    .dataframe thead th {\n",
       "        text-align: right;\n",
       "    }\n",
       "</style>\n",
       "<table border=\"1\" class=\"dataframe\">\n",
       "  <thead>\n",
       "    <tr style=\"text-align: right;\">\n",
       "      <th></th>\n",
       "      <th>patient ID</th>\n",
       "      <th>hba1c_mmol</th>\n",
       "    </tr>\n",
       "  </thead>\n",
       "  <tbody>\n",
       "    <tr>\n",
       "      <th>0</th>\n",
       "      <td>HOSP557373</td>\n",
       "      <td>44</td>\n",
       "    </tr>\n",
       "    <tr>\n",
       "      <th>1</th>\n",
       "      <td>HOSP470321</td>\n",
       "      <td>50</td>\n",
       "    </tr>\n",
       "    <tr>\n",
       "      <th>2</th>\n",
       "      <td>HOSP112289</td>\n",
       "      <td>40</td>\n",
       "    </tr>\n",
       "    <tr>\n",
       "      <th>3</th>\n",
       "      <td>HOSP800336</td>\n",
       "      <td>41</td>\n",
       "    </tr>\n",
       "    <tr>\n",
       "      <th>4</th>\n",
       "      <td>HOSP798956</td>\n",
       "      <td>40</td>\n",
       "    </tr>\n",
       "    <tr>\n",
       "      <th>...</th>\n",
       "      <td>...</td>\n",
       "      <td>...</td>\n",
       "    </tr>\n",
       "    <tr>\n",
       "      <th>95</th>\n",
       "      <td>HOSP357681</td>\n",
       "      <td>49</td>\n",
       "    </tr>\n",
       "    <tr>\n",
       "      <th>96</th>\n",
       "      <td>HOSP194018</td>\n",
       "      <td>43</td>\n",
       "    </tr>\n",
       "    <tr>\n",
       "      <th>97</th>\n",
       "      <td>HOSP486601</td>\n",
       "      <td>41</td>\n",
       "    </tr>\n",
       "    <tr>\n",
       "      <th>98</th>\n",
       "      <td>HOSP394054</td>\n",
       "      <td>40</td>\n",
       "    </tr>\n",
       "    <tr>\n",
       "      <th>99</th>\n",
       "      <td>HOSP751176</td>\n",
       "      <td>41</td>\n",
       "    </tr>\n",
       "  </tbody>\n",
       "</table>\n",
       "<p>100 rows × 2 columns</p>\n",
       "</div>"
      ],
      "text/plain": [
       "    patient ID  hba1c_mmol\n",
       "0   HOSP557373          44\n",
       "1   HOSP470321          50\n",
       "2   HOSP112289          40\n",
       "3   HOSP800336          41\n",
       "4   HOSP798956          40\n",
       "..         ...         ...\n",
       "95  HOSP357681          49\n",
       "96  HOSP194018          43\n",
       "97  HOSP486601          41\n",
       "98  HOSP394054          40\n",
       "99  HOSP751176          41\n",
       "\n",
       "[100 rows x 2 columns]"
      ]
     },
     "execution_count": 6,
     "metadata": {},
     "output_type": "execute_result"
    }
   ],
   "source": [
    "sample_dataframe_1 = pandas.read_excel(sample_file_1_path)\n",
    "sample_dataframe_1"
   ]
  },
  {
   "cell_type": "markdown",
   "id": "0af66863-47f5-4022-a048-ed3b7b44c232",
   "metadata": {},
   "source": [
    "OK, we can see two columns, patient ID and a column for HbA1c.\n",
    "\n",
    "Let's inspect another file..."
   ]
  },
  {
   "cell_type": "code",
   "execution_count": 7,
   "id": "b78d91d0-0bd9-4b58-a031-06704831d6fd",
   "metadata": {},
   "outputs": [],
   "source": [
    "sample_file_2 = \"2016.xlsx\" # let's choose one file"
   ]
  },
  {
   "cell_type": "code",
   "execution_count": 8,
   "id": "35344c7b-79fa-4c00-a79d-5afc146170b3",
   "metadata": {},
   "outputs": [
    {
     "data": {
      "text/plain": [
       "'./data/hba1c/2016.xlsx'"
      ]
     },
     "execution_count": 8,
     "metadata": {},
     "output_type": "execute_result"
    }
   ],
   "source": [
    "sample_file_2_path = os.path.join(input_directory_path,sample_file_2) # this line creates a path to that file\n",
    "sample_file_2_path"
   ]
  },
  {
   "cell_type": "markdown",
   "id": "1b7d2f57-de01-4bb8-b45f-774efe6a8139",
   "metadata": {},
   "source": [
    "As we did before, we use pandas to read in the file"
   ]
  },
  {
   "cell_type": "code",
   "execution_count": 9,
   "id": "a392d909-7aa3-420e-b24a-caf7ab8db4fe",
   "metadata": {},
   "outputs": [
    {
     "data": {
      "text/html": [
       "<div>\n",
       "<style scoped>\n",
       "    .dataframe tbody tr th:only-of-type {\n",
       "        vertical-align: middle;\n",
       "    }\n",
       "\n",
       "    .dataframe tbody tr th {\n",
       "        vertical-align: top;\n",
       "    }\n",
       "\n",
       "    .dataframe thead th {\n",
       "        text-align: right;\n",
       "    }\n",
       "</style>\n",
       "<table border=\"1\" class=\"dataframe\">\n",
       "  <thead>\n",
       "    <tr style=\"text-align: right;\">\n",
       "      <th></th>\n",
       "      <th>ID #</th>\n",
       "      <th>HBA1C</th>\n",
       "    </tr>\n",
       "  </thead>\n",
       "  <tbody>\n",
       "    <tr>\n",
       "      <th>0</th>\n",
       "      <td>HOSP350875</td>\n",
       "      <td>6.2</td>\n",
       "    </tr>\n",
       "    <tr>\n",
       "      <th>1</th>\n",
       "      <td>HOSP563389</td>\n",
       "      <td>6.1</td>\n",
       "    </tr>\n",
       "    <tr>\n",
       "      <th>2</th>\n",
       "      <td>HOSP170390</td>\n",
       "      <td>7.2</td>\n",
       "    </tr>\n",
       "    <tr>\n",
       "      <th>3</th>\n",
       "      <td>HOSP807689</td>\n",
       "      <td>6.4</td>\n",
       "    </tr>\n",
       "    <tr>\n",
       "      <th>4</th>\n",
       "      <td>HOSP353490</td>\n",
       "      <td>5.9</td>\n",
       "    </tr>\n",
       "    <tr>\n",
       "      <th>...</th>\n",
       "      <td>...</td>\n",
       "      <td>...</td>\n",
       "    </tr>\n",
       "    <tr>\n",
       "      <th>95</th>\n",
       "      <td>HOSP772108</td>\n",
       "      <td>6.7</td>\n",
       "    </tr>\n",
       "    <tr>\n",
       "      <th>96</th>\n",
       "      <td>HOSP467257</td>\n",
       "      <td>6.1</td>\n",
       "    </tr>\n",
       "    <tr>\n",
       "      <th>97</th>\n",
       "      <td>HOSP366765</td>\n",
       "      <td>5.9</td>\n",
       "    </tr>\n",
       "    <tr>\n",
       "      <th>98</th>\n",
       "      <td>HOSP246106</td>\n",
       "      <td>6.3</td>\n",
       "    </tr>\n",
       "    <tr>\n",
       "      <th>99</th>\n",
       "      <td>HOSP358930</td>\n",
       "      <td>5.1</td>\n",
       "    </tr>\n",
       "  </tbody>\n",
       "</table>\n",
       "<p>100 rows × 2 columns</p>\n",
       "</div>"
      ],
      "text/plain": [
       "          ID #  HBA1C\n",
       "0   HOSP350875    6.2\n",
       "1   HOSP563389    6.1\n",
       "2   HOSP170390    7.2\n",
       "3   HOSP807689    6.4\n",
       "4   HOSP353490    5.9\n",
       "..         ...    ...\n",
       "95  HOSP772108    6.7\n",
       "96  HOSP467257    6.1\n",
       "97  HOSP366765    5.9\n",
       "98  HOSP246106    6.3\n",
       "99  HOSP358930    5.1\n",
       "\n",
       "[100 rows x 2 columns]"
      ]
     },
     "execution_count": 9,
     "metadata": {},
     "output_type": "execute_result"
    }
   ],
   "source": [
    "sample_dataframe_2 = pandas.read_excel(sample_file_2_path)\n",
    "sample_dataframe_2"
   ]
  },
  {
   "cell_type": "markdown",
   "id": "3b5f3711-af23-4e5c-b6a9-e9c0fdcfa6be",
   "metadata": {},
   "source": [
    "🚨 This file also has 2 columns (for ID and HbA1c), but, there are problems...\n",
    "\n",
    "1) The **column names are not consistent**\n",
    "2) The HbA1c **units are not consistent**\n",
    "\n",
    "Let's **make them uniform**"
   ]
  },
  {
   "cell_type": "code",
   "execution_count": 10,
   "id": "54f12c13-21cc-4e25-9186-329a69485eb9",
   "metadata": {},
   "outputs": [
    {
     "data": {
      "text/plain": [
       "['2021.xlsx',\n",
       " '2017.xlsx',\n",
       " '2016.xlsx',\n",
       " '2020.xlsx',\n",
       " '2024.xlsx',\n",
       " '2019.xlsx',\n",
       " '2023.xlsx',\n",
       " '2015.xlsx',\n",
       " '2014.xlsx',\n",
       " '2022.xlsx',\n",
       " '2018.xlsx']"
      ]
     },
     "execution_count": 10,
     "metadata": {},
     "output_type": "execute_result"
    }
   ],
   "source": [
    "excel_files = os.listdir(input_directory_path) # We make a list of the excel files\n",
    "excel_files"
   ]
  },
  {
   "cell_type": "markdown",
   "id": "7bfe5f23-2430-4be1-b385-6a6a83c9a5cc",
   "metadata": {},
   "source": [
    "Now let's go through the list, read each excel file in and check the column names\n",
    "\n",
    "For this we can use a **for loop**, a way of iterating through a list.\n",
    "\n",
    "Here is a basic for loop:"
   ]
  },
  {
   "cell_type": "code",
   "execution_count": 11,
   "id": "749a17bf-349d-4905-8930-93d4258ddaf2",
   "metadata": {},
   "outputs": [
    {
     "data": {
      "text/plain": [
       "['2021.xlsx',\n",
       " '2017.xlsx',\n",
       " '2016.xlsx',\n",
       " '2020.xlsx',\n",
       " '2024.xlsx',\n",
       " '2019.xlsx',\n",
       " '2023.xlsx',\n",
       " '2015.xlsx',\n",
       " '2014.xlsx',\n",
       " '2022.xlsx',\n",
       " '2018.xlsx']"
      ]
     },
     "execution_count": 11,
     "metadata": {},
     "output_type": "execute_result"
    }
   ],
   "source": [
    "excel_files"
   ]
  },
  {
   "cell_type": "code",
   "execution_count": 12,
   "id": "b6883727-990c-4db2-9fcb-0468df472432",
   "metadata": {},
   "outputs": [
    {
     "name": "stdout",
     "output_type": "stream",
     "text": [
      "2021.xlsx\n",
      "2017.xlsx\n",
      "2016.xlsx\n",
      "2020.xlsx\n",
      "2024.xlsx\n",
      "2019.xlsx\n",
      "2023.xlsx\n",
      "2015.xlsx\n",
      "2014.xlsx\n",
      "2022.xlsx\n",
      "2018.xlsx\n"
     ]
    }
   ],
   "source": [
    "for excel_file in excel_files:\n",
    "    print(excel_file)"
   ]
  },
  {
   "cell_type": "markdown",
   "id": "c08fafe2-4700-4d17-8d75-a5d467673778",
   "metadata": {},
   "source": [
    "Now let's us the for loop to read in each file in turn and tell us the column names used"
   ]
  },
  {
   "cell_type": "code",
   "execution_count": 13,
   "id": "44936fa6-27f0-42fa-9872-6ab93c965f28",
   "metadata": {},
   "outputs": [
    {
     "name": "stdout",
     "output_type": "stream",
     "text": [
      "Processing 2021.xlsx\n",
      "['patient ID', 'hba1c_mmol']\n",
      "Processing 2017.xlsx\n",
      "['PatientId', 'HbA1C %']\n",
      "Processing 2016.xlsx\n",
      "['ID #', 'HBA1C']\n",
      "Processing 2020.xlsx\n",
      "['patient_ID', 'HbA1c (mmol/mol)']\n",
      "Processing 2024.xlsx\n",
      "['PATIENT_ID', 'HbA1c_mmol_per_mol']\n",
      "Processing 2019.xlsx\n",
      "['patient_ID', 'HbA1c']\n",
      "Processing 2023.xlsx\n",
      "['PatientId', 'HbA1C mmol']\n",
      "Processing 2015.xlsx\n",
      "['patient ID', 'hba1c']\n",
      "Processing 2014.xlsx\n",
      "['patient_ID', 'HbA1c']\n",
      "Processing 2022.xlsx\n",
      "['ID #', 'HBA1C_new']\n",
      "Processing 2018.xlsx\n",
      "['PATIENT_ID', 'HbA1c_old']\n"
     ]
    }
   ],
   "source": [
    "for excel_file in excel_files:\n",
    "    print(f\"Processing {excel_file}\")\n",
    "    file_path = os.path.join(input_directory_path,excel_file) # defines the path to that file\n",
    "    dataframe = pandas.read_excel(file_path) # reads in that file\n",
    "    print(dataframe.columns.tolist())"
   ]
  },
  {
   "cell_type": "markdown",
   "id": "77902f81-d6f1-4948-bcd6-075e28fdabe6",
   "metadata": {},
   "source": [
    "## 🧪 Using **Pattern Matching** to handle inconsistent column names\n",
    "\n",
    "Over the years, many different column names have been used for the **patient ID** and **HbA1c** values — but **they all share some common patterns**.\n",
    "\n",
    "- The **patient ID column** always contains the text `\"ID\"` (in some form, like `patient_ID`, `ID #`, or `PatientId`)\n",
    "- The **HbA1c column** always contains the text `\"HbA1c\"` (in some form, like `HBA1C`, `hba1c`, or `HbA1c (mmol/mol)`)\n",
    "\n",
    "We can use **pattern matching** with something called **regular expressions (regex)** to identify these columns — even if the exact names are different.\n",
    "\n",
    "Once we've matched them, we can **rename them** to standard names (like `patient_ID` and `HbA1c`) to make our analysis easier.\n",
    "\n",
    "First, let's try it on a single file:"
   ]
  },
  {
   "cell_type": "code",
   "execution_count": 14,
   "id": "2fa875d7-f94b-47f7-92aa-d94364488392",
   "metadata": {},
   "outputs": [
    {
     "data": {
      "text/html": [
       "<div>\n",
       "<style scoped>\n",
       "    .dataframe tbody tr th:only-of-type {\n",
       "        vertical-align: middle;\n",
       "    }\n",
       "\n",
       "    .dataframe tbody tr th {\n",
       "        vertical-align: top;\n",
       "    }\n",
       "\n",
       "    .dataframe thead th {\n",
       "        text-align: right;\n",
       "    }\n",
       "</style>\n",
       "<table border=\"1\" class=\"dataframe\">\n",
       "  <thead>\n",
       "    <tr style=\"text-align: right;\">\n",
       "      <th></th>\n",
       "      <th>patient ID</th>\n",
       "      <th>hba1c_mmol</th>\n",
       "    </tr>\n",
       "  </thead>\n",
       "  <tbody>\n",
       "    <tr>\n",
       "      <th>0</th>\n",
       "      <td>HOSP557373</td>\n",
       "      <td>44</td>\n",
       "    </tr>\n",
       "    <tr>\n",
       "      <th>1</th>\n",
       "      <td>HOSP470321</td>\n",
       "      <td>50</td>\n",
       "    </tr>\n",
       "    <tr>\n",
       "      <th>2</th>\n",
       "      <td>HOSP112289</td>\n",
       "      <td>40</td>\n",
       "    </tr>\n",
       "    <tr>\n",
       "      <th>3</th>\n",
       "      <td>HOSP800336</td>\n",
       "      <td>41</td>\n",
       "    </tr>\n",
       "    <tr>\n",
       "      <th>4</th>\n",
       "      <td>HOSP798956</td>\n",
       "      <td>40</td>\n",
       "    </tr>\n",
       "    <tr>\n",
       "      <th>...</th>\n",
       "      <td>...</td>\n",
       "      <td>...</td>\n",
       "    </tr>\n",
       "    <tr>\n",
       "      <th>95</th>\n",
       "      <td>HOSP357681</td>\n",
       "      <td>49</td>\n",
       "    </tr>\n",
       "    <tr>\n",
       "      <th>96</th>\n",
       "      <td>HOSP194018</td>\n",
       "      <td>43</td>\n",
       "    </tr>\n",
       "    <tr>\n",
       "      <th>97</th>\n",
       "      <td>HOSP486601</td>\n",
       "      <td>41</td>\n",
       "    </tr>\n",
       "    <tr>\n",
       "      <th>98</th>\n",
       "      <td>HOSP394054</td>\n",
       "      <td>40</td>\n",
       "    </tr>\n",
       "    <tr>\n",
       "      <th>99</th>\n",
       "      <td>HOSP751176</td>\n",
       "      <td>41</td>\n",
       "    </tr>\n",
       "  </tbody>\n",
       "</table>\n",
       "<p>100 rows × 2 columns</p>\n",
       "</div>"
      ],
      "text/plain": [
       "    patient ID  hba1c_mmol\n",
       "0   HOSP557373          44\n",
       "1   HOSP470321          50\n",
       "2   HOSP112289          40\n",
       "3   HOSP800336          41\n",
       "4   HOSP798956          40\n",
       "..         ...         ...\n",
       "95  HOSP357681          49\n",
       "96  HOSP194018          43\n",
       "97  HOSP486601          41\n",
       "98  HOSP394054          40\n",
       "99  HOSP751176          41\n",
       "\n",
       "[100 rows x 2 columns]"
      ]
     },
     "execution_count": 14,
     "metadata": {},
     "output_type": "execute_result"
    }
   ],
   "source": [
    "sample_dataframe_1 = pandas.read_excel(sample_file_1_path)\n",
    "sample_dataframe_1"
   ]
  },
  {
   "cell_type": "markdown",
   "id": "d6b452b9-9561-4056-9895-dcbb5bcfd638",
   "metadata": {},
   "source": [
    "We use a for loop to loop through each column (only 2 of course!) to find the column which matches the pattern we are looking for"
   ]
  },
  {
   "cell_type": "code",
   "execution_count": 15,
   "id": "28f6090a-1a1d-4139-a30f-ddf418f8316a",
   "metadata": {},
   "outputs": [
    {
     "name": "stdout",
     "output_type": "stream",
     "text": [
      "The column 'patient ID' matches the ID column\n"
     ]
    }
   ],
   "source": [
    "# Loop through all the column names in the DataFrame\n",
    "for col in sample_dataframe_1.columns:\n",
    "    \n",
    "    # Check if the column name contains the word \"ID\" (case-insensitive)\n",
    "    if re.search(r'ID', col, re.IGNORECASE): # the \\b is a word boundary\n",
    "        \n",
    "        # If it matches, print out the column name\n",
    "        print(f\"The column '{col}' matches the ID column\")"
   ]
  },
  {
   "cell_type": "markdown",
   "id": "6c8acdd1-08f4-471e-a176-e1d51caf7897",
   "metadata": {},
   "source": [
    "Now we can extend this to **batch-process all the files:** identify the ID and HbA1c columns, rename them, and save the cleaned table\n",
    "\n",
    "Let's define and make a results folder"
   ]
  },
  {
   "cell_type": "code",
   "execution_count": 16,
   "id": "5351a00e-338b-4643-b05c-4a3d0e30ace0",
   "metadata": {},
   "outputs": [],
   "source": [
    "output_directory_path = './results/hba1c_cleaned'\n",
    "os.makedirs(output_directory_path, exist_ok=True)"
   ]
  },
  {
   "cell_type": "markdown",
   "id": "36ff87ee-6910-42de-8bd5-7bcf74e74c87",
   "metadata": {},
   "source": [
    "We now loop through each file, read it in, search for the ID column and rename it, do the same for the HbA1c column and then save the renamed files"
   ]
  },
  {
   "cell_type": "code",
   "execution_count": 17,
   "id": "64f14d3e-ea3d-4f6f-a83b-b08ddac2e630",
   "metadata": {},
   "outputs": [
    {
     "name": "stdout",
     "output_type": "stream",
     "text": [
      "Processing 2021.xlsx...\n",
      "Processing 2017.xlsx...\n",
      "Processing 2016.xlsx...\n",
      "Processing 2020.xlsx...\n",
      "Processing 2024.xlsx...\n",
      "Processing 2019.xlsx...\n",
      "Processing 2023.xlsx...\n",
      "Processing 2015.xlsx...\n",
      "Processing 2014.xlsx...\n",
      "Processing 2022.xlsx...\n",
      "Processing 2018.xlsx...\n"
     ]
    }
   ],
   "source": [
    "for excel_file in excel_files:\n",
    "    print(f\"Processing {excel_file}...\")\n",
    "    file_path = os.path.join(input_directory_path, excel_file)\n",
    "    df = pandas.read_excel(file_path)\n",
    "\n",
    "    # Identify and rename the ID column\n",
    "    for col in df.columns:\n",
    "        if re.search(r'\\bID\\b', col, re.IGNORECASE):\n",
    "            df.rename(columns={col: 'patient_ID'}, inplace=True)\n",
    "\n",
    "    # Identify and rename the HbA1c column\n",
    "    for col in df.columns:\n",
    "        if re.search(r'HBA1C', col, re.IGNORECASE):\n",
    "            df.rename(columns={col: 'HbA1c'}, inplace=True)\n",
    "\n",
    "    # Save cleaned file with the same filename in the new directory\n",
    "    output_file_path = os.path.join(output_directory_path, excel_file)\n",
    "    df.to_excel(output_file_path, index=False)"
   ]
  },
  {
   "cell_type": "markdown",
   "id": "0d0a7950-4e08-4e2d-aa8a-05d93ad52e1e",
   "metadata": {},
   "source": [
    "## 🎯 Batch processing to standardise HbA1c Units\n",
    "\n",
    "You may have noticed that the units of HbA1c vary between files:\n",
    "\n",
    "- Some files report values in **% (percent)**.\n",
    "- Others report values in **mmol/mol** — this is the modern format.\n",
    "\n",
    "To compare results properly, we need to **convert everything to the same unit**:  \n",
    "✅ **mmol/mol**\n",
    "\n",
    "We'll do this in two steps:\n",
    "\n",
    "1. **Detect** what units the HbA1c values are likely in.\n",
    "2. **Convert** the values to mmol/mol **if they are in %**."
   ]
  },
  {
   "cell_type": "code",
   "execution_count": 18,
   "id": "ab74435c-4756-43d9-8588-6c106c379749",
   "metadata": {},
   "outputs": [
    {
     "data": {
      "text/html": [
       "<div>\n",
       "<style scoped>\n",
       "    .dataframe tbody tr th:only-of-type {\n",
       "        vertical-align: middle;\n",
       "    }\n",
       "\n",
       "    .dataframe tbody tr th {\n",
       "        vertical-align: top;\n",
       "    }\n",
       "\n",
       "    .dataframe thead th {\n",
       "        text-align: right;\n",
       "    }\n",
       "</style>\n",
       "<table border=\"1\" class=\"dataframe\">\n",
       "  <thead>\n",
       "    <tr style=\"text-align: right;\">\n",
       "      <th></th>\n",
       "      <th>patient ID</th>\n",
       "      <th>hba1c_mmol</th>\n",
       "    </tr>\n",
       "  </thead>\n",
       "  <tbody>\n",
       "    <tr>\n",
       "      <th>0</th>\n",
       "      <td>HOSP557373</td>\n",
       "      <td>44</td>\n",
       "    </tr>\n",
       "    <tr>\n",
       "      <th>1</th>\n",
       "      <td>HOSP470321</td>\n",
       "      <td>50</td>\n",
       "    </tr>\n",
       "    <tr>\n",
       "      <th>2</th>\n",
       "      <td>HOSP112289</td>\n",
       "      <td>40</td>\n",
       "    </tr>\n",
       "    <tr>\n",
       "      <th>3</th>\n",
       "      <td>HOSP800336</td>\n",
       "      <td>41</td>\n",
       "    </tr>\n",
       "    <tr>\n",
       "      <th>4</th>\n",
       "      <td>HOSP798956</td>\n",
       "      <td>40</td>\n",
       "    </tr>\n",
       "  </tbody>\n",
       "</table>\n",
       "</div>"
      ],
      "text/plain": [
       "   patient ID  hba1c_mmol\n",
       "0  HOSP557373          44\n",
       "1  HOSP470321          50\n",
       "2  HOSP112289          40\n",
       "3  HOSP800336          41\n",
       "4  HOSP798956          40"
      ]
     },
     "execution_count": 18,
     "metadata": {},
     "output_type": "execute_result"
    }
   ],
   "source": [
    "sample_dataframe_1.head()"
   ]
  },
  {
   "cell_type": "code",
   "execution_count": 19,
   "id": "4ac9e2b0-bd9c-4b34-ac16-ee5f66715c27",
   "metadata": {},
   "outputs": [
    {
     "name": "stdout",
     "output_type": "stream",
     "text": [
      "Units appear to be in mmol/mol — NO CONVERSION NEEDED.\n"
     ]
    }
   ],
   "source": [
    "# Try to find the HbA1c column\n",
    "for col in sample_dataframe_1.columns:\n",
    "    if re.search(r'HBA1C', col, re.IGNORECASE):\n",
    "        hba1c_col = col\n",
    "        break\n",
    "\n",
    "# Estimate unit based on typical value range\n",
    "if sample_dataframe_1[hba1c_col].mean() < 20:\n",
    "    print(\"Units appear to be in % — CONVERSION IS NEEDED.\")\n",
    "else:\n",
    "    print(\"Units appear to be in mmol/mol — NO CONVERSION NEEDED.\")"
   ]
  },
  {
   "cell_type": "code",
   "execution_count": 20,
   "id": "8ef7b9ba-a23d-4851-86a7-166129b51f59",
   "metadata": {},
   "outputs": [
    {
     "data": {
      "text/html": [
       "<div>\n",
       "<style scoped>\n",
       "    .dataframe tbody tr th:only-of-type {\n",
       "        vertical-align: middle;\n",
       "    }\n",
       "\n",
       "    .dataframe tbody tr th {\n",
       "        vertical-align: top;\n",
       "    }\n",
       "\n",
       "    .dataframe thead th {\n",
       "        text-align: right;\n",
       "    }\n",
       "</style>\n",
       "<table border=\"1\" class=\"dataframe\">\n",
       "  <thead>\n",
       "    <tr style=\"text-align: right;\">\n",
       "      <th></th>\n",
       "      <th>ID #</th>\n",
       "      <th>HBA1C</th>\n",
       "    </tr>\n",
       "  </thead>\n",
       "  <tbody>\n",
       "    <tr>\n",
       "      <th>0</th>\n",
       "      <td>HOSP350875</td>\n",
       "      <td>6.2</td>\n",
       "    </tr>\n",
       "    <tr>\n",
       "      <th>1</th>\n",
       "      <td>HOSP563389</td>\n",
       "      <td>6.1</td>\n",
       "    </tr>\n",
       "    <tr>\n",
       "      <th>2</th>\n",
       "      <td>HOSP170390</td>\n",
       "      <td>7.2</td>\n",
       "    </tr>\n",
       "    <tr>\n",
       "      <th>3</th>\n",
       "      <td>HOSP807689</td>\n",
       "      <td>6.4</td>\n",
       "    </tr>\n",
       "    <tr>\n",
       "      <th>4</th>\n",
       "      <td>HOSP353490</td>\n",
       "      <td>5.9</td>\n",
       "    </tr>\n",
       "  </tbody>\n",
       "</table>\n",
       "</div>"
      ],
      "text/plain": [
       "         ID #  HBA1C\n",
       "0  HOSP350875    6.2\n",
       "1  HOSP563389    6.1\n",
       "2  HOSP170390    7.2\n",
       "3  HOSP807689    6.4\n",
       "4  HOSP353490    5.9"
      ]
     },
     "execution_count": 20,
     "metadata": {},
     "output_type": "execute_result"
    }
   ],
   "source": [
    "sample_dataframe_2.head()"
   ]
  },
  {
   "cell_type": "code",
   "execution_count": 21,
   "id": "6fe4035e-59ea-46b4-b1d1-1b8457012095",
   "metadata": {},
   "outputs": [
    {
     "name": "stdout",
     "output_type": "stream",
     "text": [
      "Units appear to be in % — CONVERSION IS NEEDED.\n"
     ]
    }
   ],
   "source": [
    "# Try to find the HbA1c column\n",
    "for col in sample_dataframe_2.columns:\n",
    "    if re.search(r'HBA1C', col, re.IGNORECASE):\n",
    "        hba1c_col = col\n",
    "        break\n",
    "\n",
    "# Estimate unit based on typical value range\n",
    "if sample_dataframe_2[hba1c_col].mean() < 20:\n",
    "    print(\"Units appear to be in % — CONVERSION IS NEEDED.\")\n",
    "else:\n",
    "    print(\"Units appear to be in mmol/mol — NO CONVERSION NEEDED.\")"
   ]
  },
  {
   "cell_type": "code",
   "execution_count": 22,
   "id": "6cb6e4be-b836-4b91-a906-19f9f6fb0c73",
   "metadata": {},
   "outputs": [
    {
     "name": "stdout",
     "output_type": "stream",
     "text": [
      "Converted HbA1c values from % to mmol/mol.\n"
     ]
    },
    {
     "data": {
      "text/html": [
       "<div>\n",
       "<style scoped>\n",
       "    .dataframe tbody tr th:only-of-type {\n",
       "        vertical-align: middle;\n",
       "    }\n",
       "\n",
       "    .dataframe tbody tr th {\n",
       "        vertical-align: top;\n",
       "    }\n",
       "\n",
       "    .dataframe thead th {\n",
       "        text-align: right;\n",
       "    }\n",
       "</style>\n",
       "<table border=\"1\" class=\"dataframe\">\n",
       "  <thead>\n",
       "    <tr style=\"text-align: right;\">\n",
       "      <th></th>\n",
       "      <th>ID #</th>\n",
       "      <th>HBA1C</th>\n",
       "    </tr>\n",
       "  </thead>\n",
       "  <tbody>\n",
       "    <tr>\n",
       "      <th>0</th>\n",
       "      <td>HOSP350875</td>\n",
       "      <td>44</td>\n",
       "    </tr>\n",
       "    <tr>\n",
       "      <th>1</th>\n",
       "      <td>HOSP563389</td>\n",
       "      <td>43</td>\n",
       "    </tr>\n",
       "    <tr>\n",
       "      <th>2</th>\n",
       "      <td>HOSP170390</td>\n",
       "      <td>55</td>\n",
       "    </tr>\n",
       "    <tr>\n",
       "      <th>3</th>\n",
       "      <td>HOSP807689</td>\n",
       "      <td>46</td>\n",
       "    </tr>\n",
       "    <tr>\n",
       "      <th>4</th>\n",
       "      <td>HOSP353490</td>\n",
       "      <td>41</td>\n",
       "    </tr>\n",
       "    <tr>\n",
       "      <th>...</th>\n",
       "      <td>...</td>\n",
       "      <td>...</td>\n",
       "    </tr>\n",
       "    <tr>\n",
       "      <th>95</th>\n",
       "      <td>HOSP772108</td>\n",
       "      <td>50</td>\n",
       "    </tr>\n",
       "    <tr>\n",
       "      <th>96</th>\n",
       "      <td>HOSP467257</td>\n",
       "      <td>43</td>\n",
       "    </tr>\n",
       "    <tr>\n",
       "      <th>97</th>\n",
       "      <td>HOSP366765</td>\n",
       "      <td>41</td>\n",
       "    </tr>\n",
       "    <tr>\n",
       "      <th>98</th>\n",
       "      <td>HOSP246106</td>\n",
       "      <td>45</td>\n",
       "    </tr>\n",
       "    <tr>\n",
       "      <th>99</th>\n",
       "      <td>HOSP358930</td>\n",
       "      <td>32</td>\n",
       "    </tr>\n",
       "  </tbody>\n",
       "</table>\n",
       "<p>100 rows × 2 columns</p>\n",
       "</div>"
      ],
      "text/plain": [
       "          ID #  HBA1C\n",
       "0   HOSP350875     44\n",
       "1   HOSP563389     43\n",
       "2   HOSP170390     55\n",
       "3   HOSP807689     46\n",
       "4   HOSP353490     41\n",
       "..         ...    ...\n",
       "95  HOSP772108     50\n",
       "96  HOSP467257     43\n",
       "97  HOSP366765     41\n",
       "98  HOSP246106     45\n",
       "99  HOSP358930     32\n",
       "\n",
       "[100 rows x 2 columns]"
      ]
     },
     "execution_count": 22,
     "metadata": {},
     "output_type": "execute_result"
    }
   ],
   "source": [
    "# Only convert if values are in %\n",
    "if sample_dataframe_2[hba1c_col].mean() < 20:\n",
    "    sample_dataframe_2[hba1c_col] = ((sample_dataframe_2[hba1c_col] - 2.15) * 10.929).round().astype(int)\n",
    "    print(\"Converted HbA1c values from % to mmol/mol.\")\n",
    "\n",
    "sample_dataframe_2"
   ]
  },
  {
   "cell_type": "markdown",
   "id": "9d930ac2-5fba-4ce3-9cdf-4e6c0ef7e025",
   "metadata": {},
   "source": [
    "Ok the code seems to work, so let's **combine the column renaming and unit conversion in a single loop**, and apply it to all the Excel files"
   ]
  },
  {
   "cell_type": "code",
   "execution_count": 23,
   "id": "76690ba6-620b-4bb3-ae27-7ffbbbccf65f",
   "metadata": {},
   "outputs": [],
   "source": [
    "input_directory_path = \"./data/hba1c/\"\n",
    "\n",
    "output_directory_path = \"./results/hba1c_cleaned_converted/\"\n",
    "os.makedirs(output_directory_path, exist_ok=True)"
   ]
  },
  {
   "cell_type": "code",
   "execution_count": 24,
   "id": "7f7fb309-a663-404e-8f2f-ace5138251b9",
   "metadata": {},
   "outputs": [
    {
     "data": {
      "text/plain": [
       "['2021.xlsx',\n",
       " '2017.xlsx',\n",
       " '2016.xlsx',\n",
       " '2020.xlsx',\n",
       " '2024.xlsx',\n",
       " '2019.xlsx',\n",
       " '2023.xlsx',\n",
       " '2015.xlsx',\n",
       " '2014.xlsx',\n",
       " '2022.xlsx',\n",
       " '2018.xlsx']"
      ]
     },
     "execution_count": 24,
     "metadata": {},
     "output_type": "execute_result"
    }
   ],
   "source": [
    "# Get a list of all Excel files in the input folder\n",
    "excel_files = os.listdir(input_directory_path)\n",
    "excel_files"
   ]
  },
  {
   "cell_type": "code",
   "execution_count": 25,
   "id": "eaaaeda7-cba5-4aeb-aa43-f382c4b5cab1",
   "metadata": {},
   "outputs": [
    {
     "name": "stdout",
     "output_type": "stream",
     "text": [
      "\n",
      "📄 Processing file: 2021.xlsx\n",
      "✅ HbA1c values already in mmol/mol. No conversion needed.\n",
      "\n",
      "📄 Processing file: 2017.xlsx\n",
      "🔄 Converted HbA1c values from % to mmol/mol.\n",
      "\n",
      "📄 Processing file: 2016.xlsx\n",
      "🔄 Converted HbA1c values from % to mmol/mol.\n",
      "\n",
      "📄 Processing file: 2020.xlsx\n",
      "✅ HbA1c values already in mmol/mol. No conversion needed.\n",
      "\n",
      "📄 Processing file: 2024.xlsx\n",
      "✅ HbA1c values already in mmol/mol. No conversion needed.\n",
      "\n",
      "📄 Processing file: 2019.xlsx\n",
      "🔄 Converted HbA1c values from % to mmol/mol.\n",
      "\n",
      "📄 Processing file: 2023.xlsx\n",
      "✅ HbA1c values already in mmol/mol. No conversion needed.\n",
      "\n",
      "📄 Processing file: 2015.xlsx\n",
      "🔄 Converted HbA1c values from % to mmol/mol.\n",
      "\n",
      "📄 Processing file: 2014.xlsx\n",
      "🔄 Converted HbA1c values from % to mmol/mol.\n",
      "\n",
      "📄 Processing file: 2022.xlsx\n",
      "✅ HbA1c values already in mmol/mol. No conversion needed.\n",
      "\n",
      "📄 Processing file: 2018.xlsx\n",
      "🔄 Converted HbA1c values from % to mmol/mol.\n",
      "\n",
      "⏱️ Finished processing 11 files in 0.09 seconds.\n"
     ]
    }
   ],
   "source": [
    "# Start the timer before the loop\n",
    "start_time = time.time()\n",
    "\n",
    "# Loop through each file\n",
    "for excel_file in excel_files:\n",
    "    print(f\"\\n📄 Processing file: {excel_file}\")\n",
    "    \n",
    "    # Load the Excel file into a DataFrame\n",
    "    file_path = os.path.join(input_directory_path, excel_file)\n",
    "    df = pandas.read_excel(file_path)\n",
    "    \n",
    "    # Step 1: Find the HbA1c column using regex\n",
    "    hba1c_col = None\n",
    "    for col in df.columns:\n",
    "        if re.search(r'HBA1C', col, re.IGNORECASE):\n",
    "            hba1c_col = col\n",
    "            break\n",
    "    \n",
    "    # Step 2: Estimate the units based on average value\n",
    "    if df[hba1c_col].mean() < 20:\n",
    "        # If values are likely in %, convert to mmol/mol\n",
    "        df[hba1c_col] = ((df[hba1c_col] - 2.15) * 10.929).round().astype(int)\n",
    "        print(\"🔄 Converted HbA1c values from % to mmol/mol.\")\n",
    "    else:\n",
    "        print(\"✅ HbA1c values already in mmol/mol. No conversion needed.\")\n",
    "    \n",
    "    # Step 3: Rename the HbA1c column to a consistent name\n",
    "    df.rename(columns={hba1c_col: 'HbA1c'}, inplace=True)\n",
    "\n",
    "    # Step 4: Find the patient ID column and rename it\n",
    "    id_col = None\n",
    "    for col in df.columns:\n",
    "        if re.search(r'ID', col, re.IGNORECASE):\n",
    "            id_col = col\n",
    "            df.rename(columns={col: 'patient_ID'}, inplace=True)\n",
    "            break\n",
    "    \n",
    "    # Step 5: Save the cleaned DataFrame to the output folder\n",
    "    output_path = os.path.join(output_directory_path, excel_file)\n",
    "    df.to_excel(output_path, index=False)\n",
    "\n",
    "# Stop the timer after the loop\n",
    "end_time = time.time()\n",
    "elapsed_time = round(end_time - start_time, 2)\n",
    "print(f\"\\n⏱️ Finished processing {len(excel_files)} files in {elapsed_time} seconds.\")"
   ]
  },
  {
   "cell_type": "markdown",
   "id": "d5f6faf4-917d-43bc-887e-e8287e3d7005",
   "metadata": {},
   "source": [
    "This **took less than 1/10 of 1 second**. This would have taken a long time manually..."
   ]
  },
  {
   "cell_type": "markdown",
   "id": "2787ad86-0977-4445-966a-f208ff72b148",
   "metadata": {},
   "source": [
    "## ⛓️ Concatenating data"
   ]
  },
  {
   "cell_type": "markdown",
   "id": "41c3ffc1-19fe-4219-87c3-6ed2e6f298c7",
   "metadata": {},
   "source": [
    "<div style=\"border-left: 4px solid #007acc; padding: 0.5em 1em; background-color: #f0f8ff; margin: 1em 0;\">\n",
    "  <h4>👨‍🏫 Scenario</h4>\n",
    "  <p>There are lots of Excel files. Can you send me all the data in one file?</p>\n",
    "</div>"
   ]
  },
  {
   "cell_type": "code",
   "execution_count": 26,
   "id": "662ca2cf-8881-46fb-be85-3e59a952fbbf",
   "metadata": {},
   "outputs": [],
   "source": [
    "# Set input and output paths\n",
    "input_directory_path = \"./results/hba1c_cleaned_converted/\"\n",
    "\n",
    "output_directory_path = \"./results/hba1c_cleaned_converted_concatenated/\"\n",
    "os.makedirs(output_directory_path, exist_ok=True)  # Create folder if it doesn't exist"
   ]
  },
  {
   "cell_type": "code",
   "execution_count": 27,
   "id": "117be921-b9a0-4ad6-92bd-9919394feb3f",
   "metadata": {},
   "outputs": [
    {
     "data": {
      "text/plain": [
       "['2021.xlsx',\n",
       " '2017.xlsx',\n",
       " '2016.xlsx',\n",
       " '2020.xlsx',\n",
       " '2024.xlsx',\n",
       " '2019.xlsx',\n",
       " '2023.xlsx',\n",
       " '2015.xlsx',\n",
       " '2014.xlsx',\n",
       " '2022.xlsx',\n",
       " '2018.xlsx']"
      ]
     },
     "execution_count": 27,
     "metadata": {},
     "output_type": "execute_result"
    }
   ],
   "source": [
    "# Get all Excel files in the input folder\n",
    "excel_files = os.listdir(input_directory_path)\n",
    "excel_files"
   ]
  },
  {
   "cell_type": "code",
   "execution_count": 28,
   "id": "b3b3a60a-ac3e-4ed1-9752-88ac0d5369c5",
   "metadata": {},
   "outputs": [
    {
     "name": "stdout",
     "output_type": "stream",
     "text": [
      "\n",
      "📊 Combined DataFrame has 1100 rows total\n",
      "\n",
      "💾 Combined file saved to: ./results/hba1c_cleaned_converted_concatenated/hba1c_results.xlsx\n",
      "\n",
      "⏱️ Finished processing 11 files in 0.07 seconds.\n"
     ]
    }
   ],
   "source": [
    "# Create an empty list to store each DataFrame\n",
    "all_dataframes = []\n",
    "\n",
    "# Start the timer before the loop\n",
    "start_time = time.time()\n",
    "\n",
    "# Loop through each file and read it into a DataFrame\n",
    "for excel_file in excel_files:\n",
    "    year = excel_file.split(\".\")[0] # extract the year from the filename\n",
    "    file_path = os.path.join(input_directory_path, excel_file)\n",
    "    df = pandas.read_excel(file_path)\n",
    "    df['year'] = year # add the year to each dataframe\n",
    "    all_dataframes.append(df)  # Add the DataFrame to our list\n",
    "\n",
    "# Combine all DataFrames into one big DataFrame\n",
    "combined_df = pandas.concat(all_dataframes, ignore_index=True) # Concatenate\n",
    "print(f\"\\n📊 Combined DataFrame has {len(combined_df)} rows total\")\n",
    "\n",
    "# Save the combined DataFrame as a new Excel file\n",
    "output_file_path = os.path.join(output_directory_path, \"hba1c_results.xlsx\")\n",
    "combined_df.to_excel(output_file_path, index=False)\n",
    "print(f\"\\n💾 Combined file saved to: {output_file_path}\")\n",
    "\n",
    "# Stop the timer after the loop\n",
    "end_time = time.time()\n",
    "elapsed_time = round(end_time - start_time, 2)\n",
    "print(f\"\\n⏱️ Finished processing {len(excel_files)} files in {elapsed_time} seconds.\")"
   ]
  },
  {
   "cell_type": "code",
   "execution_count": null,
   "id": "593a87a4-b646-4c36-af3a-3c1443b32d6e",
   "metadata": {},
   "outputs": [],
   "source": []
  }
 ],
 "metadata": {
  "kernelspec": {
   "display_name": "test",
   "language": "python",
   "name": "test"
  },
  "language_info": {
   "codemirror_mode": {
    "name": "ipython",
    "version": 3
   },
   "file_extension": ".py",
   "mimetype": "text/x-python",
   "name": "python",
   "nbconvert_exporter": "python",
   "pygments_lexer": "ipython3",
   "version": "3.10.16"
  }
 },
 "nbformat": 4,
 "nbformat_minor": 5
}
