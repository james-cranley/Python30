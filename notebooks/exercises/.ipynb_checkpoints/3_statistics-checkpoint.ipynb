{
 "cells": [
  {
   "cell_type": "markdown",
   "id": "3578e08e-7198-418c-8c39-e06c13480f90",
   "metadata": {
    "editable": true,
    "slideshow": {
     "slide_type": ""
    },
    "tags": []
   },
   "source": [
    "# Statistics 📊\n",
    "\n",
    "**Author:** James Cranley (<james.cranley@doctors.org.uk>)  \n",
    "**Date:** March 2025\n",
    "\n",
    "---"
   ]
  },
  {
   "cell_type": "markdown",
   "id": "1967adde-35f1-49cf-8501-e662b683082a",
   "metadata": {},
   "source": [
    "## Overview\n",
    "\n",
    "In this notebook, you'll explore how to investigate associations between patient characteristics and outcomes—in this case, mortality status. Using a real dataset, you'll perform both univariate and multivariate analyses to understand how individual factors influence the risk of death.\n",
    "\n",
    "### What You'll Learn\n",
    "\n",
    "✅ **Univariate Testing:**\n",
    "- T-tests to compare continuous variables (like age, serum creatinine) between groups.\n",
    "- Chi-square tests to examine associations between categorical variables (such as diabetes, smoking) and mortality.\n",
    "\n",
    "✅ **Multivariate Testing:**\n",
    "- Logistic regression to simultaneously evaluate the influence of multiple predictors (both continuous and categorical variables found significant in univariate testing) on mortality status.\n",
    "- Interpretation of odds ratios to understand the clinical significance of each predictor."
   ]
  },
  {
   "cell_type": "markdown",
   "id": "a731edbc-4cbd-47d8-914c-e0c1939b5609",
   "metadata": {},
   "source": [
    "## Exercise\n",
    "<div style=\"border-left: 4px solid #007acc; padding: 0.5em 1em; background-color: #f0f8ff; margin: 1em 0;\">\n",
    "  <h4>👨‍🏫 Bob</h4>\n",
    "  <p>That heart failure data from the other day, can you find any predictors of death?</p>\n",
    "</div>\n",
    "\n",
    "### Import packages"
   ]
  },
  {
   "cell_type": "code",
   "execution_count": 1,
   "id": "4a8a434c-e975-4862-953d-0fa3dcd4e79f",
   "metadata": {},
   "outputs": [],
   "source": [
    "import os # operating system: for interacting with files\n",
    "import pandas as pd # key tabular data package in python\n",
    "import numpy as np # important package for mathematics in python"
   ]
  },
  {
   "cell_type": "markdown",
   "id": "42da183c-ddf0-49ee-a8a3-ea328077cfcc",
   "metadata": {},
   "source": [
    "### Reading data into dataframes"
   ]
  },
  {
   "cell_type": "code",
   "execution_count": 2,
   "id": "fc7f5367-0c19-43ca-a17b-0700c785da69",
   "metadata": {},
   "outputs": [],
   "source": [
    "input_file_path = \"./results/HF_data_inc_mortality.xlsx\" # define the relative path to the file"
   ]
  },
  {
   "cell_type": "markdown",
   "id": "71f67e79-d06f-4ad1-adf8-e5b19e68243d",
   "metadata": {},
   "source": [
    "We read in the Excel file into a **pandas dataframe** called df."
   ]
  },
  {
   "cell_type": "code",
   "execution_count": 3,
   "id": "16efafef-0918-4494-9390-048548ab2ad0",
   "metadata": {},
   "outputs": [],
   "source": [
    "df = pd.read_excel(input_file_path) # Pandas library has a built in Excel read/write function"
   ]
  },
  {
   "cell_type": "markdown",
   "id": "d976fe19-bb2b-4063-8053-ef1d8ed0fdab",
   "metadata": {},
   "source": [
    "### Inspect the data"
   ]
  },
  {
   "cell_type": "code",
   "execution_count": 4,
   "id": "f951657e-5790-4e78-abf6-849e00b2d507",
   "metadata": {},
   "outputs": [
    {
     "data": {
      "text/html": [
       "<div>\n",
       "<style scoped>\n",
       "    .dataframe tbody tr th:only-of-type {\n",
       "        vertical-align: middle;\n",
       "    }\n",
       "\n",
       "    .dataframe tbody tr th {\n",
       "        vertical-align: top;\n",
       "    }\n",
       "\n",
       "    .dataframe thead th {\n",
       "        text-align: right;\n",
       "    }\n",
       "</style>\n",
       "<table border=\"1\" class=\"dataframe\">\n",
       "  <thead>\n",
       "    <tr style=\"text-align: right;\">\n",
       "      <th></th>\n",
       "      <th>patient_ID</th>\n",
       "      <th>age</th>\n",
       "      <th>anaemia</th>\n",
       "      <th>creatinine_phosphokinase</th>\n",
       "      <th>diabetes</th>\n",
       "      <th>ejection_fraction</th>\n",
       "      <th>high_blood_pressure</th>\n",
       "      <th>platelets</th>\n",
       "      <th>serum_creatinine</th>\n",
       "      <th>serum_sodium</th>\n",
       "      <th>sex</th>\n",
       "      <th>smoking</th>\n",
       "      <th>one_year_mortality_status</th>\n",
       "    </tr>\n",
       "  </thead>\n",
       "  <tbody>\n",
       "    <tr>\n",
       "      <th>0</th>\n",
       "      <td>360061</td>\n",
       "      <td>75.0</td>\n",
       "      <td>0</td>\n",
       "      <td>582</td>\n",
       "      <td>0</td>\n",
       "      <td>20</td>\n",
       "      <td>1</td>\n",
       "      <td>265000.00</td>\n",
       "      <td>1.9</td>\n",
       "      <td>130</td>\n",
       "      <td>1</td>\n",
       "      <td>0</td>\n",
       "      <td>1.0</td>\n",
       "    </tr>\n",
       "    <tr>\n",
       "      <th>1</th>\n",
       "      <td>118349</td>\n",
       "      <td>55.0</td>\n",
       "      <td>0</td>\n",
       "      <td>7861</td>\n",
       "      <td>0</td>\n",
       "      <td>38</td>\n",
       "      <td>0</td>\n",
       "      <td>263358.03</td>\n",
       "      <td>1.1</td>\n",
       "      <td>136</td>\n",
       "      <td>1</td>\n",
       "      <td>0</td>\n",
       "      <td>1.0</td>\n",
       "    </tr>\n",
       "    <tr>\n",
       "      <th>2</th>\n",
       "      <td>557032</td>\n",
       "      <td>65.0</td>\n",
       "      <td>0</td>\n",
       "      <td>146</td>\n",
       "      <td>0</td>\n",
       "      <td>20</td>\n",
       "      <td>0</td>\n",
       "      <td>162000.00</td>\n",
       "      <td>1.3</td>\n",
       "      <td>129</td>\n",
       "      <td>1</td>\n",
       "      <td>1</td>\n",
       "      <td>1.0</td>\n",
       "    </tr>\n",
       "    <tr>\n",
       "      <th>3</th>\n",
       "      <td>851734</td>\n",
       "      <td>50.0</td>\n",
       "      <td>1</td>\n",
       "      <td>111</td>\n",
       "      <td>0</td>\n",
       "      <td>20</td>\n",
       "      <td>0</td>\n",
       "      <td>210000.00</td>\n",
       "      <td>1.9</td>\n",
       "      <td>137</td>\n",
       "      <td>1</td>\n",
       "      <td>0</td>\n",
       "      <td>1.0</td>\n",
       "    </tr>\n",
       "    <tr>\n",
       "      <th>4</th>\n",
       "      <td>375585</td>\n",
       "      <td>65.0</td>\n",
       "      <td>1</td>\n",
       "      <td>160</td>\n",
       "      <td>1</td>\n",
       "      <td>20</td>\n",
       "      <td>0</td>\n",
       "      <td>327000.00</td>\n",
       "      <td>2.7</td>\n",
       "      <td>116</td>\n",
       "      <td>0</td>\n",
       "      <td>0</td>\n",
       "      <td>1.0</td>\n",
       "    </tr>\n",
       "  </tbody>\n",
       "</table>\n",
       "</div>"
      ],
      "text/plain": [
       "   patient_ID   age  anaemia  creatinine_phosphokinase  diabetes  \\\n",
       "0      360061  75.0        0                       582         0   \n",
       "1      118349  55.0        0                      7861         0   \n",
       "2      557032  65.0        0                       146         0   \n",
       "3      851734  50.0        1                       111         0   \n",
       "4      375585  65.0        1                       160         1   \n",
       "\n",
       "   ejection_fraction  high_blood_pressure  platelets  serum_creatinine  \\\n",
       "0                 20                    1  265000.00               1.9   \n",
       "1                 38                    0  263358.03               1.1   \n",
       "2                 20                    0  162000.00               1.3   \n",
       "3                 20                    0  210000.00               1.9   \n",
       "4                 20                    0  327000.00               2.7   \n",
       "\n",
       "   serum_sodium  sex  smoking  one_year_mortality_status  \n",
       "0           130    1        0                        1.0  \n",
       "1           136    1        0                        1.0  \n",
       "2           129    1        1                        1.0  \n",
       "3           137    1        0                        1.0  \n",
       "4           116    0        0                        1.0  "
      ]
     },
     "execution_count": 4,
     "metadata": {},
     "output_type": "execute_result"
    }
   ],
   "source": [
    "df.head()"
   ]
  },
  {
   "cell_type": "code",
   "execution_count": 5,
   "id": "feda229f-8726-4f72-b933-794686ca6f62",
   "metadata": {},
   "outputs": [
    {
     "name": "stdout",
     "output_type": "stream",
     "text": [
      "<class 'pandas.core.frame.DataFrame'>\n",
      "RangeIndex: 299 entries, 0 to 298\n",
      "Data columns (total 13 columns):\n",
      " #   Column                     Non-Null Count  Dtype  \n",
      "---  ------                     --------------  -----  \n",
      " 0   patient_ID                 299 non-null    int64  \n",
      " 1   age                        299 non-null    float64\n",
      " 2   anaemia                    299 non-null    int64  \n",
      " 3   creatinine_phosphokinase   299 non-null    int64  \n",
      " 4   diabetes                   299 non-null    int64  \n",
      " 5   ejection_fraction          299 non-null    int64  \n",
      " 6   high_blood_pressure        299 non-null    int64  \n",
      " 7   platelets                  299 non-null    float64\n",
      " 8   serum_creatinine           299 non-null    float64\n",
      " 9   serum_sodium               299 non-null    int64  \n",
      " 10  sex                        299 non-null    int64  \n",
      " 11  smoking                    299 non-null    int64  \n",
      " 12  one_year_mortality_status  289 non-null    float64\n",
      "dtypes: float64(4), int64(9)\n",
      "memory usage: 30.5 KB\n"
     ]
    }
   ],
   "source": [
    "df.info()"
   ]
  },
  {
   "cell_type": "code",
   "execution_count": 6,
   "id": "014da4c4-bac8-4c2d-99df-2aec2a80e261",
   "metadata": {},
   "outputs": [],
   "source": [
    "# Drop rows with missing mortality status, since this is non-usable data\n",
    "data_clean = df.dropna(subset=['one_year_mortality_status'])"
   ]
  },
  {
   "cell_type": "markdown",
   "id": "3d189853-672a-40f4-90c6-9e1b15d84625",
   "metadata": {},
   "source": [
    "## Univariate testing\n",
    "\n",
    "- For **continuous** variables, we can use **T-tests**\n",
    "- For **categorical** variables, we can use **chi-square tests**"
   ]
  },
  {
   "cell_type": "markdown",
   "id": "46c32fc2-1e06-4710-9619-7aaf04d9ff86",
   "metadata": {},
   "source": [
    "### Continuous (T tests)"
   ]
  },
  {
   "cell_type": "code",
   "execution_count": 7,
   "id": "eba8502e-c84f-40e3-b0d5-26c411471d59",
   "metadata": {},
   "outputs": [
    {
     "name": "stdout",
     "output_type": "stream",
     "text": [
      "Requirement already satisfied: scipy in /usr/local/Caskroom/miniforge/base/envs/test/lib/python3.13/site-packages (1.15.2)\n",
      "Requirement already satisfied: numpy<2.5,>=1.23.5 in /usr/local/Caskroom/miniforge/base/envs/test/lib/python3.13/site-packages (from scipy) (2.2.4)\n"
     ]
    }
   ],
   "source": [
    "!pip install scipy"
   ]
  },
  {
   "cell_type": "markdown",
   "id": "0c568129-911e-46d3-b3ac-c5ec30a05117",
   "metadata": {},
   "source": [
    "This code performs **t-tests** to determine if there's a significant difference between two groups: patients who survived and patients who did not survive.\n",
    "\n",
    "The variables being tested are all **continuous**, meaning they're numerical and can take many possible values."
   ]
  },
  {
   "cell_type": "code",
   "execution_count": 8,
   "id": "0e60bf8c-2588-4526-b756-532a07a69f9e",
   "metadata": {},
   "outputs": [],
   "source": [
    "# Define continuous variables\n",
    "continuous_vars = [\n",
    "    'age',\n",
    "    'creatinine_phosphokinase',\n",
    "    'ejection_fraction',\n",
    "    'platelets',\n",
    "    'serum_creatinine',\n",
    "    'serum_sodium'\n",
    "]"
   ]
  },
  {
   "cell_type": "code",
   "execution_count": 9,
   "id": "de1f1776-3e3e-403e-8c95-47f2f0f9341e",
   "metadata": {},
   "outputs": [],
   "source": [
    "# Prepare a blank list to store the results\n",
    "results_list = []"
   ]
  },
  {
   "cell_type": "code",
   "execution_count": 10,
   "id": "c7ad28e4-773d-4945-8ef2-5c18e491dad9",
   "metadata": {},
   "outputs": [],
   "source": [
    "# Perform the T-test\n",
    "\n",
    "from scipy.stats import ttest_ind # import a T test function from the SciPy package (stats)\n",
    "\n",
    "# Perform t-tests and store results\n",
    "for var in continuous_vars:\n",
    "    group_alive = data_clean[data_clean['one_year_mortality_status'] == 0][var]\n",
    "    group_deceased = data_clean[data_clean['one_year_mortality_status'] == 1][var]\n",
    "    t_stat, p_val = ttest_ind(group_alive, group_deceased)\n",
    "    significant = 'Yes' if p_val < 0.05 else 'No'\n",
    "    \n",
    "    # Append each result as a dictionary to the list\n",
    "    results_list.append({\n",
    "        'Variable': var,\n",
    "        'T-Statistic': t_stat,\n",
    "        'P-Value': p_val,\n",
    "        'Significant': significant\n",
    "    })"
   ]
  },
  {
   "cell_type": "markdown",
   "id": "34957c3f-dc9f-4401-b180-2460e531cf03",
   "metadata": {},
   "source": [
    "For each variable in the list:\n",
    "- Separates data into two groups: survivors and deceased.\n",
    "- Runs a t-test to compare the mean values between these two groups.\n",
    "- The t-statistic measures how much the averages differ between groups, considering the variability in the data.\n",
    "- The p-value tells you if this difference is statistically significant."
   ]
  },
  {
   "cell_type": "code",
   "execution_count": 11,
   "id": "5ee7be35-01c9-41c3-a2eb-456a14100d13",
   "metadata": {},
   "outputs": [
    {
     "data": {
      "text/html": [
       "<div>\n",
       "<style scoped>\n",
       "    .dataframe tbody tr th:only-of-type {\n",
       "        vertical-align: middle;\n",
       "    }\n",
       "\n",
       "    .dataframe tbody tr th {\n",
       "        vertical-align: top;\n",
       "    }\n",
       "\n",
       "    .dataframe thead th {\n",
       "        text-align: right;\n",
       "    }\n",
       "</style>\n",
       "<table border=\"1\" class=\"dataframe\">\n",
       "  <thead>\n",
       "    <tr style=\"text-align: right;\">\n",
       "      <th></th>\n",
       "      <th>Variable</th>\n",
       "      <th>T-Statistic</th>\n",
       "      <th>P-Value</th>\n",
       "      <th>Significant</th>\n",
       "    </tr>\n",
       "  </thead>\n",
       "  <tbody>\n",
       "    <tr>\n",
       "      <th>0</th>\n",
       "      <td>age</td>\n",
       "      <td>-4.475392</td>\n",
       "      <td>1.101016e-05</td>\n",
       "      <td>Yes</td>\n",
       "    </tr>\n",
       "    <tr>\n",
       "      <th>1</th>\n",
       "      <td>creatinine_phosphokinase</td>\n",
       "      <td>-0.986544</td>\n",
       "      <td>3.246973e-01</td>\n",
       "      <td>No</td>\n",
       "    </tr>\n",
       "    <tr>\n",
       "      <th>2</th>\n",
       "      <td>ejection_fraction</td>\n",
       "      <td>4.382779</td>\n",
       "      <td>1.645473e-05</td>\n",
       "      <td>Yes</td>\n",
       "    </tr>\n",
       "    <tr>\n",
       "      <th>3</th>\n",
       "      <td>platelets</td>\n",
       "      <td>0.711969</td>\n",
       "      <td>4.770622e-01</td>\n",
       "      <td>No</td>\n",
       "    </tr>\n",
       "    <tr>\n",
       "      <th>4</th>\n",
       "      <td>serum_creatinine</td>\n",
       "      <td>-5.178675</td>\n",
       "      <td>4.212789e-07</td>\n",
       "      <td>Yes</td>\n",
       "    </tr>\n",
       "    <tr>\n",
       "      <th>5</th>\n",
       "      <td>serum_sodium</td>\n",
       "      <td>3.550694</td>\n",
       "      <td>4.488587e-04</td>\n",
       "      <td>Yes</td>\n",
       "    </tr>\n",
       "  </tbody>\n",
       "</table>\n",
       "</div>"
      ],
      "text/plain": [
       "                   Variable  T-Statistic       P-Value Significant\n",
       "0                       age    -4.475392  1.101016e-05         Yes\n",
       "1  creatinine_phosphokinase    -0.986544  3.246973e-01          No\n",
       "2         ejection_fraction     4.382779  1.645473e-05         Yes\n",
       "3                 platelets     0.711969  4.770622e-01          No\n",
       "4          serum_creatinine    -5.178675  4.212789e-07         Yes\n",
       "5              serum_sodium     3.550694  4.488587e-04         Yes"
      ]
     },
     "execution_count": 11,
     "metadata": {},
     "output_type": "execute_result"
    }
   ],
   "source": [
    "# Convert the list of results to a DataFrame\n",
    "results_continuous = pd.DataFrame(results_list)\n",
    "results_continuous"
   ]
  },
  {
   "cell_type": "markdown",
   "id": "27646b68-eb86-4035-ab23-3c41519c0f32",
   "metadata": {},
   "source": [
    "### Categorical (chi-square tests)"
   ]
  },
  {
   "cell_type": "code",
   "execution_count": 12,
   "id": "1dd00a3a-c290-4bc7-bb51-0a8864a9df9d",
   "metadata": {},
   "outputs": [],
   "source": [
    "# Define categorical variables\n",
    "categorical_vars = [\n",
    "    'anaemia',\n",
    "    'diabetes',\n",
    "    'high_blood_pressure',\n",
    "    'sex',\n",
    "    'smoking'\n",
    "]"
   ]
  },
  {
   "cell_type": "code",
   "execution_count": 13,
   "id": "7298147a-4715-426b-8793-6603c9c65a68",
   "metadata": {},
   "outputs": [],
   "source": [
    "# Prepare a blank list to store the results\n",
    "results_list = []"
   ]
  },
  {
   "cell_type": "markdown",
   "id": "6b1fab20-b85a-479c-99b8-c817586d2a6b",
   "metadata": {},
   "source": [
    "For each categorical variable, perform the following steps:\n",
    "- **Create a contingency table**: This is a simple table showing the number of people in each group who survived or didn't survive.\n",
    "- **Run the chi-square test**: It compares the observed counts to what you would expect if there was no relationship."
   ]
  },
  {
   "cell_type": "code",
   "execution_count": 14,
   "id": "17264ce8-cfba-4596-95ed-fa8ce1e16db5",
   "metadata": {},
   "outputs": [],
   "source": [
    "from scipy.stats import chi2_contingency\n",
    "\n",
    "# Loop through each variable\n",
    "for var in categorical_vars:\n",
    "    # Create contingency table (counts of survival vs. death)\n",
    "    contingency_table = pd.crosstab(data_clean[var], data_clean['one_year_mortality_status'])\n",
    "    \n",
    "    # Perform the chi-square test\n",
    "    chi2_stat, p_val, _, _ = chi2_contingency(contingency_table)\n",
    "    \n",
    "    # Check if result is statistically significant (p-value < 0.05 usually means \"significant\")\n",
    "    significant = 'Yes' if p_val < 0.05 else 'No'\n",
    "    \n",
    "    # Add the results to the results list\n",
    "    results_list.append({\n",
    "        'Variable': var,\n",
    "        'Chi2-Statistic': chi2_stat,\n",
    "        'P-Value': p_val,\n",
    "        'Significant': significant\n",
    "    })"
   ]
  },
  {
   "cell_type": "code",
   "execution_count": 15,
   "id": "d1fa6510-dc2a-42c2-ad91-4f8d5f3b4ba0",
   "metadata": {},
   "outputs": [
    {
     "data": {
      "text/html": [
       "<div>\n",
       "<style scoped>\n",
       "    .dataframe tbody tr th:only-of-type {\n",
       "        vertical-align: middle;\n",
       "    }\n",
       "\n",
       "    .dataframe tbody tr th {\n",
       "        vertical-align: top;\n",
       "    }\n",
       "\n",
       "    .dataframe thead th {\n",
       "        text-align: right;\n",
       "    }\n",
       "</style>\n",
       "<table border=\"1\" class=\"dataframe\">\n",
       "  <thead>\n",
       "    <tr style=\"text-align: right;\">\n",
       "      <th></th>\n",
       "      <th>Variable</th>\n",
       "      <th>Chi2-Statistic</th>\n",
       "      <th>P-Value</th>\n",
       "      <th>Significant</th>\n",
       "    </tr>\n",
       "  </thead>\n",
       "  <tbody>\n",
       "    <tr>\n",
       "      <th>0</th>\n",
       "      <td>anaemia</td>\n",
       "      <td>1.883396</td>\n",
       "      <td>0.169949</td>\n",
       "      <td>No</td>\n",
       "    </tr>\n",
       "    <tr>\n",
       "      <th>1</th>\n",
       "      <td>diabetes</td>\n",
       "      <td>0.007440</td>\n",
       "      <td>0.931263</td>\n",
       "      <td>No</td>\n",
       "    </tr>\n",
       "    <tr>\n",
       "      <th>2</th>\n",
       "      <td>high_blood_pressure</td>\n",
       "      <td>1.124043</td>\n",
       "      <td>0.289050</td>\n",
       "      <td>No</td>\n",
       "    </tr>\n",
       "    <tr>\n",
       "      <th>3</th>\n",
       "      <td>sex</td>\n",
       "      <td>0.000000</td>\n",
       "      <td>1.000000</td>\n",
       "      <td>No</td>\n",
       "    </tr>\n",
       "    <tr>\n",
       "      <th>4</th>\n",
       "      <td>smoking</td>\n",
       "      <td>0.000000</td>\n",
       "      <td>1.000000</td>\n",
       "      <td>No</td>\n",
       "    </tr>\n",
       "  </tbody>\n",
       "</table>\n",
       "</div>"
      ],
      "text/plain": [
       "              Variable  Chi2-Statistic   P-Value Significant\n",
       "0              anaemia        1.883396  0.169949          No\n",
       "1             diabetes        0.007440  0.931263          No\n",
       "2  high_blood_pressure        1.124043  0.289050          No\n",
       "3                  sex        0.000000  1.000000          No\n",
       "4              smoking        0.000000  1.000000          No"
      ]
     },
     "execution_count": 15,
     "metadata": {},
     "output_type": "execute_result"
    }
   ],
   "source": [
    "# Put the results in a datafram\n",
    "results_categorical = pd.DataFrame(results_list)\n",
    "results_categorical"
   ]
  },
  {
   "cell_type": "markdown",
   "id": "4c236574-8888-4d43-959a-3222bad89ebc",
   "metadata": {},
   "source": [
    "None of the categorical variables were significant at the univariate level"
   ]
  },
  {
   "cell_type": "markdown",
   "id": "0bd5f360-578f-4209-ab0f-d6ecd4ae5c3b",
   "metadata": {},
   "source": [
    "## Multivariate testing"
   ]
  },
  {
   "cell_type": "markdown",
   "id": "19b35c08-f212-4195-a158-285cf5384868",
   "metadata": {},
   "source": [
    "### 🔍 What This Logistic Regression Code Does:\n",
    "In the previous univariate testing step, we found certain variables were significantly associated with mortality.\n",
    "\n",
    "Now **we want to analyse these significant variables together** to see how each one **independently** affects the chance of dying.\n",
    "\n",
    "**Logistic regression allows us to combine multiple variables into a single model**, considering them simultaneously, and helps us understand which variables are truly important after controlling for the influence of others."
   ]
  },
  {
   "cell_type": "code",
   "execution_count": 16,
   "id": "1a4a0234-a656-4e32-aec8-214a2a460b2e",
   "metadata": {},
   "outputs": [
    {
     "name": "stdout",
     "output_type": "stream",
     "text": [
      "Requirement already satisfied: statsmodels in /usr/local/Caskroom/miniforge/base/envs/test/lib/python3.13/site-packages (0.14.4)\n",
      "Requirement already satisfied: numpy<3,>=1.22.3 in /usr/local/Caskroom/miniforge/base/envs/test/lib/python3.13/site-packages (from statsmodels) (2.2.4)\n",
      "Requirement already satisfied: scipy!=1.9.2,>=1.8 in /usr/local/Caskroom/miniforge/base/envs/test/lib/python3.13/site-packages (from statsmodels) (1.15.2)\n",
      "Requirement already satisfied: pandas!=2.1.0,>=1.4 in /usr/local/Caskroom/miniforge/base/envs/test/lib/python3.13/site-packages (from statsmodels) (2.2.3)\n",
      "Requirement already satisfied: patsy>=0.5.6 in /usr/local/Caskroom/miniforge/base/envs/test/lib/python3.13/site-packages (from statsmodels) (1.0.1)\n",
      "Requirement already satisfied: packaging>=21.3 in /usr/local/Caskroom/miniforge/base/envs/test/lib/python3.13/site-packages (from statsmodels) (24.2)\n",
      "Requirement already satisfied: python-dateutil>=2.8.2 in /usr/local/Caskroom/miniforge/base/envs/test/lib/python3.13/site-packages (from pandas!=2.1.0,>=1.4->statsmodels) (2.9.0.post0)\n",
      "Requirement already satisfied: pytz>=2020.1 in /usr/local/Caskroom/miniforge/base/envs/test/lib/python3.13/site-packages (from pandas!=2.1.0,>=1.4->statsmodels) (2025.1)\n",
      "Requirement already satisfied: tzdata>=2022.7 in /usr/local/Caskroom/miniforge/base/envs/test/lib/python3.13/site-packages (from pandas!=2.1.0,>=1.4->statsmodels) (2025.1)\n",
      "Requirement already satisfied: six>=1.5 in /usr/local/Caskroom/miniforge/base/envs/test/lib/python3.13/site-packages (from python-dateutil>=2.8.2->pandas!=2.1.0,>=1.4->statsmodels) (1.17.0)\n"
     ]
    }
   ],
   "source": [
    "!pip install statsmodels"
   ]
  },
  {
   "cell_type": "markdown",
   "id": "cf0ce41a-4a61-4df2-b111-8d5f59d79b02",
   "metadata": {},
   "source": [
    "### Step 1: Subset the data\n",
    "\n",
    "We make a subset of the data which only inlcudes the response variable (one_year_mortality_status) and variables which were signficiant at the univariate level"
   ]
  },
  {
   "cell_type": "code",
   "execution_count": 17,
   "id": "0ee9c35a-d29c-4ef0-adde-fa0749037b39",
   "metadata": {},
   "outputs": [
    {
     "data": {
      "text/html": [
       "<div>\n",
       "<style scoped>\n",
       "    .dataframe tbody tr th:only-of-type {\n",
       "        vertical-align: middle;\n",
       "    }\n",
       "\n",
       "    .dataframe tbody tr th {\n",
       "        vertical-align: top;\n",
       "    }\n",
       "\n",
       "    .dataframe thead th {\n",
       "        text-align: right;\n",
       "    }\n",
       "</style>\n",
       "<table border=\"1\" class=\"dataframe\">\n",
       "  <thead>\n",
       "    <tr style=\"text-align: right;\">\n",
       "      <th></th>\n",
       "      <th>one_year_mortality_status</th>\n",
       "      <th>age</th>\n",
       "      <th>ejection_fraction</th>\n",
       "      <th>serum_creatinine</th>\n",
       "      <th>serum_sodium</th>\n",
       "    </tr>\n",
       "  </thead>\n",
       "  <tbody>\n",
       "    <tr>\n",
       "      <th>0</th>\n",
       "      <td>1.0</td>\n",
       "      <td>75.0</td>\n",
       "      <td>20</td>\n",
       "      <td>1.9</td>\n",
       "      <td>130</td>\n",
       "    </tr>\n",
       "    <tr>\n",
       "      <th>1</th>\n",
       "      <td>1.0</td>\n",
       "      <td>55.0</td>\n",
       "      <td>38</td>\n",
       "      <td>1.1</td>\n",
       "      <td>136</td>\n",
       "    </tr>\n",
       "    <tr>\n",
       "      <th>2</th>\n",
       "      <td>1.0</td>\n",
       "      <td>65.0</td>\n",
       "      <td>20</td>\n",
       "      <td>1.3</td>\n",
       "      <td>129</td>\n",
       "    </tr>\n",
       "    <tr>\n",
       "      <th>3</th>\n",
       "      <td>1.0</td>\n",
       "      <td>50.0</td>\n",
       "      <td>20</td>\n",
       "      <td>1.9</td>\n",
       "      <td>137</td>\n",
       "    </tr>\n",
       "    <tr>\n",
       "      <th>4</th>\n",
       "      <td>1.0</td>\n",
       "      <td>65.0</td>\n",
       "      <td>20</td>\n",
       "      <td>2.7</td>\n",
       "      <td>116</td>\n",
       "    </tr>\n",
       "    <tr>\n",
       "      <th>...</th>\n",
       "      <td>...</td>\n",
       "      <td>...</td>\n",
       "      <td>...</td>\n",
       "      <td>...</td>\n",
       "      <td>...</td>\n",
       "    </tr>\n",
       "    <tr>\n",
       "      <th>294</th>\n",
       "      <td>0.0</td>\n",
       "      <td>62.0</td>\n",
       "      <td>38</td>\n",
       "      <td>1.1</td>\n",
       "      <td>143</td>\n",
       "    </tr>\n",
       "    <tr>\n",
       "      <th>295</th>\n",
       "      <td>0.0</td>\n",
       "      <td>55.0</td>\n",
       "      <td>38</td>\n",
       "      <td>1.2</td>\n",
       "      <td>139</td>\n",
       "    </tr>\n",
       "    <tr>\n",
       "      <th>296</th>\n",
       "      <td>0.0</td>\n",
       "      <td>45.0</td>\n",
       "      <td>60</td>\n",
       "      <td>0.8</td>\n",
       "      <td>138</td>\n",
       "    </tr>\n",
       "    <tr>\n",
       "      <th>297</th>\n",
       "      <td>0.0</td>\n",
       "      <td>45.0</td>\n",
       "      <td>38</td>\n",
       "      <td>1.4</td>\n",
       "      <td>140</td>\n",
       "    </tr>\n",
       "    <tr>\n",
       "      <th>298</th>\n",
       "      <td>0.0</td>\n",
       "      <td>50.0</td>\n",
       "      <td>45</td>\n",
       "      <td>1.6</td>\n",
       "      <td>136</td>\n",
       "    </tr>\n",
       "  </tbody>\n",
       "</table>\n",
       "<p>289 rows × 5 columns</p>\n",
       "</div>"
      ],
      "text/plain": [
       "     one_year_mortality_status   age  ejection_fraction  serum_creatinine  \\\n",
       "0                          1.0  75.0                 20               1.9   \n",
       "1                          1.0  55.0                 38               1.1   \n",
       "2                          1.0  65.0                 20               1.3   \n",
       "3                          1.0  50.0                 20               1.9   \n",
       "4                          1.0  65.0                 20               2.7   \n",
       "..                         ...   ...                ...               ...   \n",
       "294                        0.0  62.0                 38               1.1   \n",
       "295                        0.0  55.0                 38               1.2   \n",
       "296                        0.0  45.0                 60               0.8   \n",
       "297                        0.0  45.0                 38               1.4   \n",
       "298                        0.0  50.0                 45               1.6   \n",
       "\n",
       "     serum_sodium  \n",
       "0             130  \n",
       "1             136  \n",
       "2             129  \n",
       "3             137  \n",
       "4             116  \n",
       "..            ...  \n",
       "294           143  \n",
       "295           139  \n",
       "296           138  \n",
       "297           140  \n",
       "298           136  \n",
       "\n",
       "[289 rows x 5 columns]"
      ]
     },
     "execution_count": 17,
     "metadata": {},
     "output_type": "execute_result"
    }
   ],
   "source": [
    "model_data = data_clean[['one_year_mortality_status', 'age', 'ejection_fraction', 'serum_creatinine', 'serum_sodium']].dropna()\n",
    "model_data"
   ]
  },
  {
   "cell_type": "markdown",
   "id": "bf739caf-704f-43f2-8d71-840b1a3e9cc4",
   "metadata": {},
   "source": [
    "### Step 2: Prepare the data for the model\n",
    "\n",
    "We separate our data into two groups:\n",
    "1. **Independent Variables (X)**: The **predictors** that might affect mortality.\n",
    "2. **Dependent Variable (y)**: The **outcome** we want to predict (mortality status)."
   ]
  },
  {
   "cell_type": "code",
   "execution_count": 18,
   "id": "d38cea0d-ced1-426f-975b-60ab52443aee",
   "metadata": {},
   "outputs": [],
   "source": [
    "import statsmodels.api as sm\n",
    "\n",
    "X = model_data[['age', 'ejection_fraction', 'serum_creatinine', 'serum_sodium']]\n",
    "X = sm.add_constant(X)  # This adds a constant (intercept) term to the model\n",
    "# The constant represents the baseline odds when all predictors equal zero, which typically doesn't carry intuitive clinical meaning and isn't interpreted as a predictor effect.\n",
    "\n",
    "y = model_data['one_year_mortality_status']"
   ]
  },
  {
   "cell_type": "markdown",
   "id": "6abe9a43-639c-47d4-9f00-370cd4d9c16c",
   "metadata": {},
   "source": [
    "### Step 3: Build the model\n",
    "\n",
    "The `.fit()` method builds the logistic regression model based on the provided data."
   ]
  },
  {
   "cell_type": "code",
   "execution_count": 19,
   "id": "116009a2-458c-4f7c-b7db-5e8c2de6c718",
   "metadata": {},
   "outputs": [
    {
     "name": "stdout",
     "output_type": "stream",
     "text": [
      "Optimization terminated successfully.\n",
      "         Current function value: 0.509422\n",
      "         Iterations 6\n"
     ]
    }
   ],
   "source": [
    "logistic_model = sm.Logit(y, X).fit()"
   ]
  },
  {
   "cell_type": "markdown",
   "id": "6dc04990-d515-489b-bf99-4869b3f67d20",
   "metadata": {},
   "source": [
    "### Step 4: Review the results"
   ]
  },
  {
   "cell_type": "code",
   "execution_count": 23,
   "id": "a10af511-c115-45ff-8703-d7d4c724218e",
   "metadata": {},
   "outputs": [
    {
     "data": {
      "text/html": [
       "<table class=\"simpletable\">\n",
       "<caption>Logit Regression Results</caption>\n",
       "<tr>\n",
       "  <th>Dep. Variable:</th>   <td>one_year_mortality_status</td> <th>  No. Observations:  </th>  <td>   289</td>  \n",
       "</tr>\n",
       "<tr>\n",
       "  <th>Model:</th>                     <td>Logit</td>           <th>  Df Residuals:      </th>  <td>   284</td>  \n",
       "</tr>\n",
       "<tr>\n",
       "  <th>Method:</th>                     <td>MLE</td>            <th>  Df Model:          </th>  <td>     4</td>  \n",
       "</tr>\n",
       "<tr>\n",
       "  <th>Date:</th>                <td>Mon, 24 Mar 2025</td>      <th>  Pseudo R-squ.:     </th>  <td>0.1857</td>  \n",
       "</tr>\n",
       "<tr>\n",
       "  <th>Time:</th>                    <td>23:00:08</td>          <th>  Log-Likelihood:    </th> <td> -147.22</td> \n",
       "</tr>\n",
       "<tr>\n",
       "  <th>converged:</th>                 <td>True</td>            <th>  LL-Null:           </th> <td> -180.80</td> \n",
       "</tr>\n",
       "<tr>\n",
       "  <th>Covariance Type:</th>         <td>nonrobust</td>         <th>  LLR p-value:       </th> <td>9.031e-14</td>\n",
       "</tr>\n",
       "</table>\n",
       "<table class=\"simpletable\">\n",
       "<tr>\n",
       "          <td></td>             <th>coef</th>     <th>std err</th>      <th>z</th>      <th>P>|z|</th>  <th>[0.025</th>    <th>0.975]</th>  \n",
       "</tr>\n",
       "<tr>\n",
       "  <th>const</th>             <td>    4.6994</td> <td>    4.552</td> <td>    1.032</td> <td> 0.302</td> <td>   -4.223</td> <td>   13.622</td>\n",
       "</tr>\n",
       "<tr>\n",
       "  <th>age</th>               <td>    0.0518</td> <td>    0.013</td> <td>    4.110</td> <td> 0.000</td> <td>    0.027</td> <td>    0.077</td>\n",
       "</tr>\n",
       "<tr>\n",
       "  <th>ejection_fraction</th> <td>   -0.0614</td> <td>    0.014</td> <td>   -4.285</td> <td> 0.000</td> <td>   -0.089</td> <td>   -0.033</td>\n",
       "</tr>\n",
       "<tr>\n",
       "  <th>serum_creatinine</th>  <td>    0.6169</td> <td>    0.160</td> <td>    3.852</td> <td> 0.000</td> <td>    0.303</td> <td>    0.931</td>\n",
       "</tr>\n",
       "<tr>\n",
       "  <th>serum_sodium</th>      <td>   -0.0535</td> <td>    0.033</td> <td>   -1.614</td> <td> 0.107</td> <td>   -0.118</td> <td>    0.011</td>\n",
       "</tr>\n",
       "</table>"
      ],
      "text/latex": [
       "\\begin{center}\n",
       "\\begin{tabular}{lclc}\n",
       "\\toprule\n",
       "\\textbf{Dep. Variable:}     & one\\_year\\_mortality\\_status & \\textbf{  No. Observations:  } &      289    \\\\\n",
       "\\textbf{Model:}             &            Logit             & \\textbf{  Df Residuals:      } &      284    \\\\\n",
       "\\textbf{Method:}            &             MLE              & \\textbf{  Df Model:          } &        4    \\\\\n",
       "\\textbf{Date:}              &       Mon, 24 Mar 2025       & \\textbf{  Pseudo R-squ.:     } &   0.1857    \\\\\n",
       "\\textbf{Time:}              &           23:00:08           & \\textbf{  Log-Likelihood:    } &   -147.22   \\\\\n",
       "\\textbf{converged:}         &             True             & \\textbf{  LL-Null:           } &   -180.80   \\\\\n",
       "\\textbf{Covariance Type:}   &          nonrobust           & \\textbf{  LLR p-value:       } & 9.031e-14   \\\\\n",
       "\\bottomrule\n",
       "\\end{tabular}\n",
       "\\begin{tabular}{lcccccc}\n",
       "                            & \\textbf{coef} & \\textbf{std err} & \\textbf{z} & \\textbf{P$> |$z$|$} & \\textbf{[0.025} & \\textbf{0.975]}  \\\\\n",
       "\\midrule\n",
       "\\textbf{const}              &       4.6994  &        4.552     &     1.032  &         0.302        &       -4.223    &       13.622     \\\\\n",
       "\\textbf{age}                &       0.0518  &        0.013     &     4.110  &         0.000        &        0.027    &        0.077     \\\\\n",
       "\\textbf{ejection\\_fraction} &      -0.0614  &        0.014     &    -4.285  &         0.000        &       -0.089    &       -0.033     \\\\\n",
       "\\textbf{serum\\_creatinine}  &       0.6169  &        0.160     &     3.852  &         0.000        &        0.303    &        0.931     \\\\\n",
       "\\textbf{serum\\_sodium}      &      -0.0535  &        0.033     &    -1.614  &         0.107        &       -0.118    &        0.011     \\\\\n",
       "\\bottomrule\n",
       "\\end{tabular}\n",
       "%\\caption{Logit Regression Results}\n",
       "\\end{center}"
      ],
      "text/plain": [
       "<class 'statsmodels.iolib.summary.Summary'>\n",
       "\"\"\"\n",
       "                               Logit Regression Results                              \n",
       "=====================================================================================\n",
       "Dep. Variable:     one_year_mortality_status   No. Observations:                  289\n",
       "Model:                                 Logit   Df Residuals:                      284\n",
       "Method:                                  MLE   Df Model:                            4\n",
       "Date:                       Mon, 24 Mar 2025   Pseudo R-squ.:                  0.1857\n",
       "Time:                               23:00:08   Log-Likelihood:                -147.22\n",
       "converged:                              True   LL-Null:                       -180.80\n",
       "Covariance Type:                   nonrobust   LLR p-value:                 9.031e-14\n",
       "=====================================================================================\n",
       "                        coef    std err          z      P>|z|      [0.025      0.975]\n",
       "-------------------------------------------------------------------------------------\n",
       "const                 4.6994      4.552      1.032      0.302      -4.223      13.622\n",
       "age                   0.0518      0.013      4.110      0.000       0.027       0.077\n",
       "ejection_fraction    -0.0614      0.014     -4.285      0.000      -0.089      -0.033\n",
       "serum_creatinine      0.6169      0.160      3.852      0.000       0.303       0.931\n",
       "serum_sodium         -0.0535      0.033     -1.614      0.107      -0.118       0.011\n",
       "=====================================================================================\n",
       "\"\"\""
      ]
     },
     "execution_count": 23,
     "metadata": {},
     "output_type": "execute_result"
    }
   ],
   "source": [
    "logistic_model.summary()"
   ]
  },
  {
   "cell_type": "markdown",
   "id": "127cd7ab-7ab2-4bf1-bc92-211ba13c7d18",
   "metadata": {},
   "source": [
    "This summary shows you:\n",
    "- **Coefficients (log-odds)**: Whether each variable increases or decreases the likelihood of mortality.\n",
    "- **P-values**: Indicate which variables remain statistically significant after adjusting for others.\n",
    "\n",
    "To clearly interpret the practical effects, we convert these coefficients into:\n",
    "\n",
    "**Odds Ratios (OR)** are more interpretable than log-odds and can be calcualted from them:"
   ]
  },
  {
   "cell_type": "code",
   "execution_count": 24,
   "id": "5cc79755-7739-470e-8dc7-a7b88e4a9d09",
   "metadata": {},
   "outputs": [
    {
     "data": {
      "text/html": [
       "<div>\n",
       "<style scoped>\n",
       "    .dataframe tbody tr th:only-of-type {\n",
       "        vertical-align: middle;\n",
       "    }\n",
       "\n",
       "    .dataframe tbody tr th {\n",
       "        vertical-align: top;\n",
       "    }\n",
       "\n",
       "    .dataframe thead th {\n",
       "        text-align: right;\n",
       "    }\n",
       "</style>\n",
       "<table border=\"1\" class=\"dataframe\">\n",
       "  <thead>\n",
       "    <tr style=\"text-align: right;\">\n",
       "      <th></th>\n",
       "      <th>Odds Ratio</th>\n",
       "      <th>CI Lower</th>\n",
       "      <th>CI Upper</th>\n",
       "      <th>P-value</th>\n",
       "    </tr>\n",
       "  </thead>\n",
       "  <tbody>\n",
       "    <tr>\n",
       "      <th>const</th>\n",
       "      <td>109.877262</td>\n",
       "      <td>0.014655</td>\n",
       "      <td>823793.094805</td>\n",
       "      <td>0.301927</td>\n",
       "    </tr>\n",
       "    <tr>\n",
       "      <th>age</th>\n",
       "      <td>1.053216</td>\n",
       "      <td>1.027495</td>\n",
       "      <td>1.079580</td>\n",
       "      <td>0.000040</td>\n",
       "    </tr>\n",
       "    <tr>\n",
       "      <th>ejection_fraction</th>\n",
       "      <td>0.940465</td>\n",
       "      <td>0.914427</td>\n",
       "      <td>0.967245</td>\n",
       "      <td>0.000018</td>\n",
       "    </tr>\n",
       "    <tr>\n",
       "      <th>serum_creatinine</th>\n",
       "      <td>1.853109</td>\n",
       "      <td>1.353868</td>\n",
       "      <td>2.536445</td>\n",
       "      <td>0.000117</td>\n",
       "    </tr>\n",
       "    <tr>\n",
       "      <th>serum_sodium</th>\n",
       "      <td>0.947929</td>\n",
       "      <td>0.888333</td>\n",
       "      <td>1.011523</td>\n",
       "      <td>0.106501</td>\n",
       "    </tr>\n",
       "  </tbody>\n",
       "</table>\n",
       "</div>"
      ],
      "text/plain": [
       "                   Odds Ratio  CI Lower       CI Upper   P-value\n",
       "const              109.877262  0.014655  823793.094805  0.301927\n",
       "age                  1.053216  1.027495       1.079580  0.000040\n",
       "ejection_fraction    0.940465  0.914427       0.967245  0.000018\n",
       "serum_creatinine     1.853109  1.353868       2.536445  0.000117\n",
       "serum_sodium         0.947929  0.888333       1.011523  0.106501"
      ]
     },
     "execution_count": 24,
     "metadata": {},
     "output_type": "execute_result"
    }
   ],
   "source": [
    "# Compute Odds Ratios and Confidence Intervals (corrected)\n",
    "odds_ratios = pd.DataFrame({\n",
    "    'Odds Ratio': np.exp(logistic_model.params.values),\n",
    "    'CI Lower': np.exp(logistic_model.conf_int()[0]),\n",
    "    'CI Upper': np.exp(logistic_model.conf_int()[1]),\n",
    "    'P-value': logistic_model.pvalues\n",
    "})\n",
    "\n",
    "odds_ratios"
   ]
  },
  {
   "cell_type": "markdown",
   "id": "50cb0475-a0a9-4afa-9c0b-71d0d9c1969b",
   "metadata": {},
   "source": [
    "We can **save the model** for later use with `pickle`"
   ]
  },
  {
   "cell_type": "code",
   "execution_count": 25,
   "id": "d74b4731-e4f1-4ef1-b647-785b9b8189b5",
   "metadata": {},
   "outputs": [],
   "source": [
    "import pickle\n",
    "\n",
    "# Save the logistic regression model\n",
    "model_path = \"./results/logistic_model.pkl\"\n",
    "with open(model_path, 'wb') as file:\n",
    "    pickle.dump(logistic_model, file)"
   ]
  },
  {
   "cell_type": "markdown",
   "id": "829b3446-3464-4383-bad9-f91ddbf60a9d",
   "metadata": {},
   "source": [
    "## **🏡 Take-Homes**\n",
    "\n",
    "**Age**, **ejection fraction**, and **serum creatinine** remain **significant predictors of mortality** in the multivariate model.\n",
    "\n",
    "- Each **additional year of age** increases mortality odds by approximately **5%**.\n",
    "- Each **unit increase in ejection fraction** decreases mortality odds by approximately **6%**.\n",
    "- Each **unit increase in serum creatinine** (NB US units (mg/dL) = 88.4 µmol/L) increases mortality odds by approximately **85%**.\n",
    "\n",
    "**Serum sodium loses significance when included in the multivariate model**, suggesting potential confounding or correlation with other predictors."
   ]
  },
  {
   "cell_type": "code",
   "execution_count": null,
   "id": "aa087f6a-0056-41a7-a4af-07fd8b8e1889",
   "metadata": {},
   "outputs": [],
   "source": []
  }
 ],
 "metadata": {
  "kernelspec": {
   "display_name": "test",
   "language": "python",
   "name": "test"
  },
  "language_info": {
   "codemirror_mode": {
    "name": "ipython",
    "version": 3
   },
   "file_extension": ".py",
   "mimetype": "text/x-python",
   "name": "python",
   "nbconvert_exporter": "python",
   "pygments_lexer": "ipython3",
   "version": "3.13.2"
  }
 },
 "nbformat": 4,
 "nbformat_minor": 5
}
